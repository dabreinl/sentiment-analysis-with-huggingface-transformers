{
 "cells": [
  {
   "cell_type": "code",
   "execution_count": 1,
   "metadata": {},
   "outputs": [],
   "source": [
    "import pandas as pd\n",
    "import matplotlib.pyplot as plt\n",
    "import transformers\n",
    "import torch\n",
    "\n",
    "from transformers import AutoTokenizer\n",
    "from datasets import load_dataset\n",
    "from sklearn.metrics import ConfusionMatrixDisplay, confusion_matrix\n",
    "from torch.nn.functional import cross_entropy\n",
    "from app.modeling.model import TweetClassificationModel\n",
    "from sklearn.metrics import f1_score, accuracy_score, recall_score, precision_score"
   ]
  },
  {
   "attachments": {},
   "cell_type": "markdown",
   "metadata": {},
   "source": [
    "## Load Data"
   ]
  },
  {
   "cell_type": "code",
   "execution_count": 2,
   "metadata": {},
   "outputs": [],
   "source": [
    "pd.set_option('display.max_colwidth', None)"
   ]
  },
  {
   "cell_type": "code",
   "execution_count": 3,
   "metadata": {},
   "outputs": [
    {
     "name": "stderr",
     "output_type": "stream",
     "text": [
      "No config specified, defaulting to: emotion/split\n",
      "Found cached dataset emotion (/Users/davidbreinl/.cache/huggingface/datasets/emotion/split/1.0.0/cca5efe2dfeb58c1d098e0f9eeb200e9927d889b5a03c67097275dfb5fe463bd)\n"
     ]
    },
    {
     "data": {
      "application/vnd.jupyter.widget-view+json": {
       "model_id": "204b10215de841e6826378f8e21e0d8c",
       "version_major": 2,
       "version_minor": 0
      },
      "text/plain": [
       "  0%|          | 0/3 [00:00<?, ?it/s]"
      ]
     },
     "metadata": {},
     "output_type": "display_data"
    }
   ],
   "source": [
    "emotions_ds = load_dataset(\"emotion\")"
   ]
  },
  {
   "cell_type": "code",
   "execution_count": 4,
   "metadata": {},
   "outputs": [
    {
     "data": {
      "text/plain": [
       "['sadness', 'joy', 'love', 'anger', 'fear', 'surprise']"
      ]
     },
     "execution_count": 4,
     "metadata": {},
     "output_type": "execute_result"
    }
   ],
   "source": [
    "class_names = emotions_ds[\"train\"].features[\"label\"].names\n",
    "class_names"
   ]
  },
  {
   "cell_type": "code",
   "execution_count": 5,
   "metadata": {},
   "outputs": [
    {
     "data": {
      "text/plain": [
       "{'input_ids': tensor([[  101,  2023,  2003,  1037,  3231,  1999,  2344,  2000,  2156,  2065,\n",
       "          1996,  4372, 16044,  2099,  2003,  2551,   102]]), 'attention_mask': tensor([[1, 1, 1, 1, 1, 1, 1, 1, 1, 1, 1, 1, 1, 1, 1, 1, 1]])}"
      ]
     },
     "execution_count": 5,
     "metadata": {},
     "output_type": "execute_result"
    }
   ],
   "source": [
    "MODEL_CHKPT = \"distilbert-base-uncased\"\n",
    "\n",
    "tokenizer = AutoTokenizer.from_pretrained(MODEL_CHKPT)\n",
    "\n",
    "tokenizer(\"this is a test in order to see if the encoder is working\", return_tensors=\"pt\")"
   ]
  },
  {
   "cell_type": "code",
   "execution_count": 6,
   "metadata": {},
   "outputs": [],
   "source": [
    "def tokenize_batch(batch):\n",
    "    return tokenizer(batch[\"text\"], \n",
    "                     padding=True,\n",
    "                     truncation=True,\n",
    "                     add_special_tokens=True,\n",
    "                     return_tensors=\"pt\")"
   ]
  },
  {
   "cell_type": "code",
   "execution_count": 7,
   "metadata": {},
   "outputs": [
    {
     "name": "stderr",
     "output_type": "stream",
     "text": [
      "Loading cached processed dataset at /Users/davidbreinl/.cache/huggingface/datasets/emotion/split/1.0.0/cca5efe2dfeb58c1d098e0f9eeb200e9927d889b5a03c67097275dfb5fe463bd/cache-b324fc8d9823e7f9.arrow\n",
      "Loading cached processed dataset at /Users/davidbreinl/.cache/huggingface/datasets/emotion/split/1.0.0/cca5efe2dfeb58c1d098e0f9eeb200e9927d889b5a03c67097275dfb5fe463bd/cache-1a6f8804dcb677d0.arrow\n",
      "Loading cached processed dataset at /Users/davidbreinl/.cache/huggingface/datasets/emotion/split/1.0.0/cca5efe2dfeb58c1d098e0f9eeb200e9927d889b5a03c67097275dfb5fe463bd/cache-3f93778ab3d480f2.arrow\n"
     ]
    }
   ],
   "source": [
    "tweets_encoded = emotions_ds.map(tokenize_batch, batched=True, batch_size=None)"
   ]
  },
  {
   "cell_type": "code",
   "execution_count": 8,
   "metadata": {},
   "outputs": [],
   "source": [
    "tweets_encoded.set_format(\"torch\",\n",
    "                          columns=[\"input_ids\", \"attention_mask\", \"label\"])"
   ]
  },
  {
   "attachments": {},
   "cell_type": "markdown",
   "metadata": {},
   "source": [
    "## Load Model"
   ]
  },
  {
   "cell_type": "code",
   "execution_count": 9,
   "metadata": {},
   "outputs": [
    {
     "name": "stderr",
     "output_type": "stream",
     "text": [
      "Some weights of the model checkpoint at distilbert-base-uncased were not used when initializing DistilBertModel: ['vocab_layer_norm.weight', 'vocab_layer_norm.bias', 'vocab_projector.bias', 'vocab_transform.weight', 'vocab_projector.weight', 'vocab_transform.bias']\n",
      "- This IS expected if you are initializing DistilBertModel from the checkpoint of a model trained on another task or with another architecture (e.g. initializing a BertForSequenceClassification model from a BertForPreTraining model).\n",
      "- This IS NOT expected if you are initializing DistilBertModel from the checkpoint of a model that you expect to be exactly identical (initializing a BertForSequenceClassification model from a BertForSequenceClassification model).\n"
     ]
    }
   ],
   "source": [
    "saved_model_name = \"distilbert-base-finetuned-for-tweet-classification-with-random-oversampling_with_scheduler\"\n",
    "\n",
    "model = TweetClassificationModel(MODEL_CHKPT, len(class_names))\n",
    "model.load_state_dict(\n",
    "                torch.load(f\"app/modeling/models/{saved_model_name}.pth\")\n",
    "            )\n",
    "model = model.to(torch.device(\"mps\"))"
   ]
  },
  {
   "attachments": {},
   "cell_type": "markdown",
   "metadata": {},
   "source": [
    "## Evaluate the model"
   ]
  },
  {
   "cell_type": "code",
   "execution_count": 10,
   "metadata": {},
   "outputs": [],
   "source": [
    "def forward_pass_with_label(batch):\n",
    "    with torch.inference_mode():\n",
    "\n",
    "        inputs = {k:v.to(torch.device(\"mps\")) for k,v in batch.items() if k in tokenizer.model_input_names}\n",
    "\n",
    "        output = model(input_ids = inputs[\"input_ids\"],\n",
    "                       attention_mask = inputs[\"attention_mask\"],\n",
    "                       labels=None)\n",
    "\n",
    "        pred_label = torch.argmax(output[\"logits\"], dim=1)\n",
    "\n",
    "        loss = cross_entropy(input=output.logits, target=batch[\"label\"].to(torch.device(\"mps\")), reduction=\"none\")\n",
    "\n",
    "    return {\n",
    "        \"loss\": loss.cpu().numpy(),\n",
    "        \"predicted_label\": pred_label.cpu().numpy()\n",
    "    }"
   ]
  },
  {
   "cell_type": "code",
   "execution_count": 11,
   "metadata": {},
   "outputs": [
    {
     "name": "stderr",
     "output_type": "stream",
     "text": [
      "/Users/davidbreinl/opt/anaconda3/envs/mlenv/lib/python3.10/site-packages/torch/_tensor_str.py:115: UserWarning: The operator 'aten::nonzero' is not currently supported on the MPS backend and will fall back to run on the CPU. This may have performance implications. (Triggered internally at /Users/runner/work/_temp/anaconda/conda-bld/pytorch_1666646991213/work/aten/src/ATen/mps/MPSFallback.mm:11.)\n",
      "  nonzero_finite_vals = torch.masked_select(\n",
      "Loading cached processed dataset at /Users/davidbreinl/.cache/huggingface/datasets/emotion/split/1.0.0/cca5efe2dfeb58c1d098e0f9eeb200e9927d889b5a03c67097275dfb5fe463bd/cache-4d03d0fe14404367.arrow\n"
     ]
    }
   ],
   "source": [
    "tweets_encoded[\"test\"] = tweets_encoded[\"test\"].map(forward_pass_with_label, batched=True, batch_size=16)"
   ]
  },
  {
   "cell_type": "code",
   "execution_count": 12,
   "metadata": {},
   "outputs": [],
   "source": [
    "tweets_encoded.set_format(\"pandas\")"
   ]
  },
  {
   "cell_type": "code",
   "execution_count": 13,
   "metadata": {},
   "outputs": [],
   "source": [
    "loss_df = tweets_encoded[\"test\"][:][[\"text\", \"label\",  \"loss\", \"predicted_label\"]]\n",
    "loss_df[\"true_label\"] = [class_names[sentiment] for sentiment in loss_df[\"label\"]]\n",
    "loss_df[\"predicted_label\"] = [class_names[sentiment] for sentiment in loss_df[\"predicted_label\"]]"
   ]
  },
  {
   "cell_type": "code",
   "execution_count": 14,
   "metadata": {},
   "outputs": [
    {
     "data": {
      "text/html": [
       "<div>\n",
       "<style scoped>\n",
       "    .dataframe tbody tr th:only-of-type {\n",
       "        vertical-align: middle;\n",
       "    }\n",
       "\n",
       "    .dataframe tbody tr th {\n",
       "        vertical-align: top;\n",
       "    }\n",
       "\n",
       "    .dataframe thead th {\n",
       "        text-align: right;\n",
       "    }\n",
       "</style>\n",
       "<table border=\"1\" class=\"dataframe\">\n",
       "  <thead>\n",
       "    <tr style=\"text-align: right;\">\n",
       "      <th></th>\n",
       "      <th>text</th>\n",
       "      <th>label</th>\n",
       "      <th>loss</th>\n",
       "      <th>predicted_label</th>\n",
       "      <th>true_label</th>\n",
       "    </tr>\n",
       "  </thead>\n",
       "  <tbody>\n",
       "    <tr>\n",
       "      <th>1382</th>\n",
       "      <td>i cannot even begin to express in words the depth of sorrow that i feel having not posted any of my ludicrous rants over the passed days</td>\n",
       "      <td>5</td>\n",
       "      <td>7.550691</td>\n",
       "      <td>sadness</td>\n",
       "      <td>surprise</td>\n",
       "    </tr>\n",
       "    <tr>\n",
       "      <th>125</th>\n",
       "      <td>i feel very mislead by someone that i really really thought i knew and liked very much so</td>\n",
       "      <td>2</td>\n",
       "      <td>6.868083</td>\n",
       "      <td>anger</td>\n",
       "      <td>love</td>\n",
       "    </tr>\n",
       "    <tr>\n",
       "      <th>1253</th>\n",
       "      <td>i don t feel betrayed coz the backstabber had no grounds for their accusation but i m just amazed at some people s ability to do such things</td>\n",
       "      <td>5</td>\n",
       "      <td>6.330835</td>\n",
       "      <td>sadness</td>\n",
       "      <td>surprise</td>\n",
       "    </tr>\n",
       "    <tr>\n",
       "      <th>816</th>\n",
       "      <td>whenever i put myself in others shoes and try to make the person happy</td>\n",
       "      <td>3</td>\n",
       "      <td>6.219223</td>\n",
       "      <td>joy</td>\n",
       "      <td>anger</td>\n",
       "    </tr>\n",
       "    <tr>\n",
       "      <th>1613</th>\n",
       "      <td>i feel very cheated since i am supporting the family and doing all the other stuff while he spends hours a day gaming</td>\n",
       "      <td>1</td>\n",
       "      <td>5.024529</td>\n",
       "      <td>sadness</td>\n",
       "      <td>joy</td>\n",
       "    </tr>\n",
       "    <tr>\n",
       "      <th>193</th>\n",
       "      <td>i really dont like quinn because i feel like she will just end up hurting barney and i hated the lame ted robin storyline</td>\n",
       "      <td>3</td>\n",
       "      <td>4.967417</td>\n",
       "      <td>sadness</td>\n",
       "      <td>anger</td>\n",
       "    </tr>\n",
       "    <tr>\n",
       "      <th>1479</th>\n",
       "      <td>i really feel and i know the devil hates that its always been something he could use against me and im determined not to let him</td>\n",
       "      <td>1</td>\n",
       "      <td>4.848154</td>\n",
       "      <td>sadness</td>\n",
       "      <td>joy</td>\n",
       "    </tr>\n",
       "    <tr>\n",
       "      <th>1837</th>\n",
       "      <td>i hate these feelings in my heart i hate that work stressed me out i hate that cornelius wont let me get my way im frustrated lord</td>\n",
       "      <td>0</td>\n",
       "      <td>4.672487</td>\n",
       "      <td>anger</td>\n",
       "      <td>sadness</td>\n",
       "    </tr>\n",
       "    <tr>\n",
       "      <th>426</th>\n",
       "      <td>i feel unprotected a class post count link href http reprogramming in process</td>\n",
       "      <td>0</td>\n",
       "      <td>4.470316</td>\n",
       "      <td>fear</td>\n",
       "      <td>sadness</td>\n",
       "    </tr>\n",
       "    <tr>\n",
       "      <th>1425</th>\n",
       "      <td>i see the look of doubt on your face i feel the scorn in your eyes but for anyone skeptical of grits dinner grits please see this as a totally amazing sister to mashed potatoes</td>\n",
       "      <td>4</td>\n",
       "      <td>4.403206</td>\n",
       "      <td>anger</td>\n",
       "      <td>fear</td>\n",
       "    </tr>\n",
       "    <tr>\n",
       "      <th>795</th>\n",
       "      <td>i feel a strange gratitude for the hated israeli occupation of sinai that lasted from to for actually recognizing the importance of sinais history</td>\n",
       "      <td>5</td>\n",
       "      <td>4.284976</td>\n",
       "      <td>sadness</td>\n",
       "      <td>surprise</td>\n",
       "    </tr>\n",
       "    <tr>\n",
       "      <th>1206</th>\n",
       "      <td>ive come to feel about a supporting character in one of my all time favorite films giant</td>\n",
       "      <td>1</td>\n",
       "      <td>3.889205</td>\n",
       "      <td>love</td>\n",
       "      <td>joy</td>\n",
       "    </tr>\n",
       "    <tr>\n",
       "      <th>1736</th>\n",
       "      <td>i was stressed about my job search and apartment hunting and i was just feeling overwhelmed with everything that was going on</td>\n",
       "      <td>4</td>\n",
       "      <td>3.811555</td>\n",
       "      <td>surprise</td>\n",
       "      <td>fear</td>\n",
       "    </tr>\n",
       "    <tr>\n",
       "      <th>1517</th>\n",
       "      <td>i could have expected in every way and i was feeling a bit overwhelmed at that point how quickly life changed in the past weeks</td>\n",
       "      <td>4</td>\n",
       "      <td>3.762220</td>\n",
       "      <td>surprise</td>\n",
       "      <td>fear</td>\n",
       "    </tr>\n",
       "    <tr>\n",
       "      <th>1377</th>\n",
       "      <td>i walked to school he felt the bounce in his step the overjoyed feelings of youth and the thrill of excitement of coming to school and meeting his beloved friends</td>\n",
       "      <td>2</td>\n",
       "      <td>3.738208</td>\n",
       "      <td>joy</td>\n",
       "      <td>love</td>\n",
       "    </tr>\n",
       "    <tr>\n",
       "      <th>1328</th>\n",
       "      <td>i don t really know the oldest one very well and his mothering mother seems to feel that he is not sweet</td>\n",
       "      <td>1</td>\n",
       "      <td>3.723849</td>\n",
       "      <td>love</td>\n",
       "      <td>joy</td>\n",
       "    </tr>\n",
       "    <tr>\n",
       "      <th>1188</th>\n",
       "      <td>i felt confused me sometimes that makes me feel useless</td>\n",
       "      <td>0</td>\n",
       "      <td>3.696565</td>\n",
       "      <td>fear</td>\n",
       "      <td>sadness</td>\n",
       "    </tr>\n",
       "    <tr>\n",
       "      <th>1162</th>\n",
       "      <td>i would always have this song stuck in my head after a bombing or incident and then i would feel a bit weird about it because if you dont really pay attention to the lyrics it sounds like such a happy song not the type youre supposed to hum on difficult days</td>\n",
       "      <td>4</td>\n",
       "      <td>3.695845</td>\n",
       "      <td>surprise</td>\n",
       "      <td>fear</td>\n",
       "    </tr>\n",
       "    <tr>\n",
       "      <th>1026</th>\n",
       "      <td>i have not conducted a survey but it is quite likely that many of them feel as assaulted by onel s demons and other creators as i would have felt had the walls been covered only with eminent figures patriotic heroes and epic deeds</td>\n",
       "      <td>0</td>\n",
       "      <td>3.689152</td>\n",
       "      <td>fear</td>\n",
       "      <td>sadness</td>\n",
       "    </tr>\n",
       "    <tr>\n",
       "      <th>756</th>\n",
       "      <td>getting sent on a company expense trip to another state to work for a week at that plan</td>\n",
       "      <td>1</td>\n",
       "      <td>3.477941</td>\n",
       "      <td>anger</td>\n",
       "      <td>joy</td>\n",
       "    </tr>\n",
       "    <tr>\n",
       "      <th>1842</th>\n",
       "      <td>i feel so amazing musicjuzz</td>\n",
       "      <td>1</td>\n",
       "      <td>3.288283</td>\n",
       "      <td>surprise</td>\n",
       "      <td>joy</td>\n",
       "    </tr>\n",
       "    <tr>\n",
       "      <th>654</th>\n",
       "      <td>i met my present boyfriend on a boat trip to england we had said that we would call each other when we got back to sweden we were not going to the same town in england as soon as i walked in he called from england as he could not wait till he came home</td>\n",
       "      <td>1</td>\n",
       "      <td>3.161447</td>\n",
       "      <td>fear</td>\n",
       "      <td>joy</td>\n",
       "    </tr>\n",
       "    <tr>\n",
       "      <th>790</th>\n",
       "      <td>i have nostalgic feelings i have met wonderful people online and the online internet is for me like my second life</td>\n",
       "      <td>1</td>\n",
       "      <td>3.147954</td>\n",
       "      <td>love</td>\n",
       "      <td>joy</td>\n",
       "    </tr>\n",
       "    <tr>\n",
       "      <th>1780</th>\n",
       "      <td>when i learnt that my best friend had failed the exams</td>\n",
       "      <td>3</td>\n",
       "      <td>3.127731</td>\n",
       "      <td>sadness</td>\n",
       "      <td>anger</td>\n",
       "    </tr>\n",
       "    <tr>\n",
       "      <th>1585</th>\n",
       "      <td>i firmly believe that the only way to go about this craft is to write the book that you feel passionate about and not to worry about finding the book that the mass audience desires</td>\n",
       "      <td>1</td>\n",
       "      <td>3.109621</td>\n",
       "      <td>love</td>\n",
       "      <td>joy</td>\n",
       "    </tr>\n",
       "    <tr>\n",
       "      <th>1887</th>\n",
       "      <td>i feel like some of you have pains and you cannot imagine becoming passionate about the group or the idea that is causing pain</td>\n",
       "      <td>1</td>\n",
       "      <td>3.103005</td>\n",
       "      <td>love</td>\n",
       "      <td>joy</td>\n",
       "    </tr>\n",
       "    <tr>\n",
       "      <th>1589</th>\n",
       "      <td>i feel as though i have merely accepted what has been done and that no matter what time has gone by it will always be with me</td>\n",
       "      <td>1</td>\n",
       "      <td>3.061597</td>\n",
       "      <td>love</td>\n",
       "      <td>joy</td>\n",
       "    </tr>\n",
       "    <tr>\n",
       "      <th>1062</th>\n",
       "      <td>i know how that feels weird right</td>\n",
       "      <td>4</td>\n",
       "      <td>2.982490</td>\n",
       "      <td>surprise</td>\n",
       "      <td>fear</td>\n",
       "    </tr>\n",
       "    <tr>\n",
       "      <th>86</th>\n",
       "      <td>i feel like i am in paradise kissing those sweet lips make me feel like i dive into a magical world of love</td>\n",
       "      <td>1</td>\n",
       "      <td>2.972544</td>\n",
       "      <td>love</td>\n",
       "      <td>joy</td>\n",
       "    </tr>\n",
       "    <tr>\n",
       "      <th>353</th>\n",
       "      <td>i could feel his breath on me and smell the sweet scent of him</td>\n",
       "      <td>1</td>\n",
       "      <td>2.906585</td>\n",
       "      <td>love</td>\n",
       "      <td>joy</td>\n",
       "    </tr>\n",
       "  </tbody>\n",
       "</table>\n",
       "</div>"
      ],
      "text/plain": [
       "                                                                                                                                                                                                                                                                    text  \\\n",
       "1382                                                                                                                            i cannot even begin to express in words the depth of sorrow that i feel having not posted any of my ludicrous rants over the passed days   \n",
       "125                                                                                                                                                                            i feel very mislead by someone that i really really thought i knew and liked very much so   \n",
       "1253                                                                                                                        i don t feel betrayed coz the backstabber had no grounds for their accusation but i m just amazed at some people s ability to do such things   \n",
       "816                                                                                                                                                                                               whenever i put myself in others shoes and try to make the person happy   \n",
       "1613                                                                                                                                               i feel very cheated since i am supporting the family and doing all the other stuff while he spends hours a day gaming   \n",
       "193                                                                                                                                            i really dont like quinn because i feel like she will just end up hurting barney and i hated the lame ted robin storyline   \n",
       "1479                                                                                                                                    i really feel and i know the devil hates that its always been something he could use against me and im determined not to let him   \n",
       "1837                                                                                                                                  i hate these feelings in my heart i hate that work stressed me out i hate that cornelius wont let me get my way im frustrated lord   \n",
       "426                                                                                                                                                                                        i feel unprotected a class post count link href http reprogramming in process   \n",
       "1425                                                                                    i see the look of doubt on your face i feel the scorn in your eyes but for anyone skeptical of grits dinner grits please see this as a totally amazing sister to mashed potatoes   \n",
       "795                                                                                                                   i feel a strange gratitude for the hated israeli occupation of sinai that lasted from to for actually recognizing the importance of sinais history   \n",
       "1206                                                                                                                                                                            ive come to feel about a supporting character in one of my all time favorite films giant   \n",
       "1736                                                                                                                                       i was stressed about my job search and apartment hunting and i was just feeling overwhelmed with everything that was going on   \n",
       "1517                                                                                                                                     i could have expected in every way and i was feeling a bit overwhelmed at that point how quickly life changed in the past weeks   \n",
       "1377                                                                                                  i walked to school he felt the bounce in his step the overjoyed feelings of youth and the thrill of excitement of coming to school and meeting his beloved friends   \n",
       "1328                                                                                                                                                            i don t really know the oldest one very well and his mothering mother seems to feel that he is not sweet   \n",
       "1188                                                                                                                                                                                                             i felt confused me sometimes that makes me feel useless   \n",
       "1162  i would always have this song stuck in my head after a bombing or incident and then i would feel a bit weird about it because if you dont really pay attention to the lyrics it sounds like such a happy song not the type youre supposed to hum on difficult days   \n",
       "1026                              i have not conducted a survey but it is quite likely that many of them feel as assaulted by onel s demons and other creators as i would have felt had the walls been covered only with eminent figures patriotic heroes and epic deeds   \n",
       "756                                                                                                                                                                              getting sent on a company expense trip to another state to work for a week at that plan   \n",
       "1842                                                                                                                                                                                                                                         i feel so amazing musicjuzz   \n",
       "654         i met my present boyfriend on a boat trip to england we had said that we would call each other when we got back to sweden we were not going to the same town in england as soon as i walked in he called from england as he could not wait till he came home   \n",
       "790                                                                                                                                                   i have nostalgic feelings i have met wonderful people online and the online internet is for me like my second life   \n",
       "1780                                                                                                                                                                                                              when i learnt that my best friend had failed the exams   \n",
       "1585                                                                                i firmly believe that the only way to go about this craft is to write the book that you feel passionate about and not to worry about finding the book that the mass audience desires   \n",
       "1887                                                                                                                                      i feel like some of you have pains and you cannot imagine becoming passionate about the group or the idea that is causing pain   \n",
       "1589                                                                                                                                       i feel as though i have merely accepted what has been done and that no matter what time has gone by it will always be with me   \n",
       "1062                                                                                                                                                                                                                                   i know how that feels weird right   \n",
       "86                                                                                                                                                           i feel like i am in paradise kissing those sweet lips make me feel like i dive into a magical world of love   \n",
       "353                                                                                                                                                                                                       i could feel his breath on me and smell the sweet scent of him   \n",
       "\n",
       "      label      loss predicted_label true_label  \n",
       "1382      5  7.550691         sadness   surprise  \n",
       "125       2  6.868083           anger       love  \n",
       "1253      5  6.330835         sadness   surprise  \n",
       "816       3  6.219223             joy      anger  \n",
       "1613      1  5.024529         sadness        joy  \n",
       "193       3  4.967417         sadness      anger  \n",
       "1479      1  4.848154         sadness        joy  \n",
       "1837      0  4.672487           anger    sadness  \n",
       "426       0  4.470316            fear    sadness  \n",
       "1425      4  4.403206           anger       fear  \n",
       "795       5  4.284976         sadness   surprise  \n",
       "1206      1  3.889205            love        joy  \n",
       "1736      4  3.811555        surprise       fear  \n",
       "1517      4  3.762220        surprise       fear  \n",
       "1377      2  3.738208             joy       love  \n",
       "1328      1  3.723849            love        joy  \n",
       "1188      0  3.696565            fear    sadness  \n",
       "1162      4  3.695845        surprise       fear  \n",
       "1026      0  3.689152            fear    sadness  \n",
       "756       1  3.477941           anger        joy  \n",
       "1842      1  3.288283        surprise        joy  \n",
       "654       1  3.161447            fear        joy  \n",
       "790       1  3.147954            love        joy  \n",
       "1780      3  3.127731         sadness      anger  \n",
       "1585      1  3.109621            love        joy  \n",
       "1887      1  3.103005            love        joy  \n",
       "1589      1  3.061597            love        joy  \n",
       "1062      4  2.982490        surprise       fear  \n",
       "86        1  2.972544            love        joy  \n",
       "353       1  2.906585            love        joy  "
      ]
     },
     "execution_count": 14,
     "metadata": {},
     "output_type": "execute_result"
    }
   ],
   "source": [
    "loss_df.sort_values(\"loss\", ascending=False).head(30)"
   ]
  },
  {
   "cell_type": "code",
   "execution_count": 15,
   "metadata": {},
   "outputs": [],
   "source": [
    "def plot_confusion_matrix(y_preds, y_true, labels):\n",
    "    cm = confusion_matrix(y_true, y_preds, normalize=\"true\")\n",
    "    fig, ax = plt.subplots(figsize=(6,6))\n",
    "    disp = ConfusionMatrixDisplay(confusion_matrix=cm, display_labels=labels)\n",
    "    disp.plot(cmap=\"Blues\", values_format=\".2f\", ax=ax, colorbar=False)\n",
    "    plt.title(\"Normalized Confusion Matrix\")\n",
    "    plt.show()"
   ]
  },
  {
   "cell_type": "code",
   "execution_count": 16,
   "metadata": {},
   "outputs": [
    {
     "data": {
      "image/png": "[encoded data removed]",
      "text/plain": [
       "<Figure size 600x600 with 1 Axes>"
      ]
     },
     "metadata": {},
     "output_type": "display_data"
    }
   ],
   "source": [
    "plot_confusion_matrix(loss_df[\"predicted_label\"], loss_df[\"true_label\"], labels=class_names)"
   ]
  },
  {
   "cell_type": "code",
   "execution_count": 17,
   "metadata": {},
   "outputs": [],
   "source": [
    "recall = recall_score(loss_df[\"true_label\"], loss_df[\"predicted_label\"], average=\"weighted\")\n",
    "precision = precision_score(loss_df[\"true_label\"], loss_df[\"predicted_label\"], average=\"weighted\")\n",
    "accuracy = accuracy_score(loss_df[\"true_label\"], loss_df[\"predicted_label\"])\n",
    "f1_score = f1_score(loss_df[\"true_label\"], loss_df[\"predicted_label\"], average=\"weighted\")"
   ]
  },
  {
   "cell_type": "code",
   "execution_count": 18,
   "metadata": {},
   "outputs": [
    {
     "data": {
      "text/html": [
       "<div>\n",
       "<style scoped>\n",
       "    .dataframe tbody tr th:only-of-type {\n",
       "        vertical-align: middle;\n",
       "    }\n",
       "\n",
       "    .dataframe tbody tr th {\n",
       "        vertical-align: top;\n",
       "    }\n",
       "\n",
       "    .dataframe thead th {\n",
       "        text-align: right;\n",
       "    }\n",
       "</style>\n",
       "<table border=\"1\" class=\"dataframe\">\n",
       "  <thead>\n",
       "    <tr style=\"text-align: right;\">\n",
       "      <th></th>\n",
       "      <th>precision</th>\n",
       "      <th>recall</th>\n",
       "      <th>f1</th>\n",
       "      <th>accuracy</th>\n",
       "    </tr>\n",
       "  </thead>\n",
       "  <tbody>\n",
       "    <tr>\n",
       "      <th>distilbert-base-finetuned-for-tweet-classification-with-random-oversampling_with_scheduler</th>\n",
       "      <td>0.930168</td>\n",
       "      <td>0.9215</td>\n",
       "      <td>0.923141</td>\n",
       "      <td>0.9215</td>\n",
       "    </tr>\n",
       "  </tbody>\n",
       "</table>\n",
       "</div>"
      ],
      "text/plain": [
       "                                                                                            precision  \\\n",
       "distilbert-base-finetuned-for-tweet-classification-with-random-oversampling_with_scheduler   0.930168   \n",
       "\n",
       "                                                                                            recall  \\\n",
       "distilbert-base-finetuned-for-tweet-classification-with-random-oversampling_with_scheduler  0.9215   \n",
       "\n",
       "                                                                                                  f1  \\\n",
       "distilbert-base-finetuned-for-tweet-classification-with-random-oversampling_with_scheduler  0.923141   \n",
       "\n",
       "                                                                                            accuracy  \n",
       "distilbert-base-finetuned-for-tweet-classification-with-random-oversampling_with_scheduler    0.9215  "
      ]
     },
     "execution_count": 18,
     "metadata": {},
     "output_type": "execute_result"
    }
   ],
   "source": [
    "pd.DataFrame({\"precision\": precision,\n",
    "              \"recall\": recall,\n",
    "              \"f1\": f1_score,\n",
    "              \"accuracy\": accuracy}, \n",
    "              index=[saved_model_name])"
   ]
  },
  {
   "cell_type": "code",
   "execution_count": null,
   "metadata": {},
   "outputs": [],
   "source": []
  }
 ],
 "metadata": {
  "kernelspec": {
   "display_name": "mlenv",
   "language": "python",
   "name": "python3"
  },
  "language_info": {
   "codemirror_mode": {
    "name": "ipython",
    "version": 3
   },
   "file_extension": ".py",
   "mimetype": "text/x-python",
   "name": "python",
   "nbconvert_exporter": "python",
   "pygments_lexer": "ipython3",
   "version": "3.10.8"
  },
  "orig_nbformat": 4
 },
 "nbformat": 4,
 "nbformat_minor": 2
}
