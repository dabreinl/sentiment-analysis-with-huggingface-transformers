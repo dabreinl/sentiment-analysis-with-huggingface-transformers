{
 "cells": [
  {
   "cell_type": "code",
   "execution_count": 19,
   "metadata": {},
   "outputs": [],
   "source": [
    "import pandas as pd\n",
    "import matplotlib.pyplot as plt\n",
    "import transformers\n",
    "import torch\n",
    "\n",
    "from transformers import AutoTokenizer\n",
    "from datasets import load_dataset\n",
    "from sklearn.metrics import ConfusionMatrixDisplay, confusion_matrix\n",
    "from torch.nn.functional import cross_entropy\n",
    "from app.modeling.model import TweetClassificationModel\n",
    "from sklearn.metrics import f1_score, accuracy_score, recall_score, precision_score"
   ]
  },
  {
   "attachments": {},
   "cell_type": "markdown",
   "metadata": {},
   "source": [
    "## Load Data"
   ]
  },
  {
   "cell_type": "code",
   "execution_count": 20,
   "metadata": {},
   "outputs": [],
   "source": [
    "pd.set_option('display.max_colwidth', None)"
   ]
  },
  {
   "cell_type": "code",
   "execution_count": 21,
   "metadata": {},
   "outputs": [
    {
     "name": "stderr",
     "output_type": "stream",
     "text": [
      "No config specified, defaulting to: emotion/split\n",
      "Found cached dataset emotion (/Users/davidbreinl/.cache/huggingface/datasets/emotion/split/1.0.0/cca5efe2dfeb58c1d098e0f9eeb200e9927d889b5a03c67097275dfb5fe463bd)\n"
     ]
    },
    {
     "data": {
      "application/vnd.jupyter.widget-view+json": {
       "model_id": "2fb9e005fe274d22ad9660210a3b698e",
       "version_major": 2,
       "version_minor": 0
      },
      "text/plain": [
       "  0%|          | 0/3 [00:00<?, ?it/s]"
      ]
     },
     "metadata": {},
     "output_type": "display_data"
    }
   ],
   "source": [
    "emotions_ds = load_dataset(\"emotion\")"
   ]
  },
  {
   "cell_type": "code",
   "execution_count": 22,
   "metadata": {},
   "outputs": [
    {
     "data": {
      "text/plain": [
       "['sadness', 'joy', 'love', 'anger', 'fear', 'surprise']"
      ]
     },
     "execution_count": 22,
     "metadata": {},
     "output_type": "execute_result"
    }
   ],
   "source": [
    "class_names = emotions_ds[\"train\"].features[\"label\"].names\n",
    "class_names"
   ]
  },
  {
   "cell_type": "code",
   "execution_count": 23,
   "metadata": {},
   "outputs": [
    {
     "data": {
      "text/plain": [
       "{'input_ids': tensor([[  101,  2023,  2003,  1037,  3231,  1999,  2344,  2000,  2156,  2065,\n",
       "          1996,  4372, 16044,  2099,  2003,  2551,   102]]), 'attention_mask': tensor([[1, 1, 1, 1, 1, 1, 1, 1, 1, 1, 1, 1, 1, 1, 1, 1, 1]])}"
      ]
     },
     "execution_count": 23,
     "metadata": {},
     "output_type": "execute_result"
    }
   ],
   "source": [
    "MODEL_CHKPT = \"distilbert-base-uncased\"\n",
    "\n",
    "tokenizer = AutoTokenizer.from_pretrained(MODEL_CHKPT)\n",
    "\n",
    "tokenizer(\"this is a test in order to see if the encoder is working\", return_tensors=\"pt\")"
   ]
  },
  {
   "cell_type": "code",
   "execution_count": 24,
   "metadata": {},
   "outputs": [],
   "source": [
    "def tokenize_batch(batch):\n",
    "    return tokenizer(batch[\"text\"], \n",
    "                     padding=True,\n",
    "                     truncation=True,\n",
    "                     add_special_tokens=True,\n",
    "                     return_tensors=\"pt\")"
   ]
  },
  {
   "cell_type": "code",
   "execution_count": 25,
   "metadata": {},
   "outputs": [
    {
     "name": "stderr",
     "output_type": "stream",
     "text": [
      "Loading cached processed dataset at /Users/davidbreinl/.cache/huggingface/datasets/emotion/split/1.0.0/cca5efe2dfeb58c1d098e0f9eeb200e9927d889b5a03c67097275dfb5fe463bd/cache-b324fc8d9823e7f9.arrow\n",
      "Loading cached processed dataset at /Users/davidbreinl/.cache/huggingface/datasets/emotion/split/1.0.0/cca5efe2dfeb58c1d098e0f9eeb200e9927d889b5a03c67097275dfb5fe463bd/cache-1a6f8804dcb677d0.arrow\n",
      "Loading cached processed dataset at /Users/davidbreinl/.cache/huggingface/datasets/emotion/split/1.0.0/cca5efe2dfeb58c1d098e0f9eeb200e9927d889b5a03c67097275dfb5fe463bd/cache-3f93778ab3d480f2.arrow\n"
     ]
    }
   ],
   "source": [
    "tweets_encoded = emotions_ds.map(tokenize_batch, batched=True, batch_size=None)"
   ]
  },
  {
   "cell_type": "code",
   "execution_count": 26,
   "metadata": {},
   "outputs": [],
   "source": [
    "tweets_encoded.set_format(\"torch\",\n",
    "                          columns=[\"input_ids\", \"attention_mask\", \"label\"])"
   ]
  },
  {
   "attachments": {},
   "cell_type": "markdown",
   "metadata": {},
   "source": [
    "## Load Model"
   ]
  },
  {
   "cell_type": "code",
   "execution_count": 27,
   "metadata": {},
   "outputs": [
    {
     "name": "stderr",
     "output_type": "stream",
     "text": [
      "Some weights of the model checkpoint at distilbert-base-uncased were not used when initializing DistilBertModel: ['vocab_projector.weight', 'vocab_projector.bias', 'vocab_transform.weight', 'vocab_transform.bias', 'vocab_layer_norm.weight', 'vocab_layer_norm.bias']\n",
      "- This IS expected if you are initializing DistilBertModel from the checkpoint of a model trained on another task or with another architecture (e.g. initializing a BertForSequenceClassification model from a BertForPreTraining model).\n",
      "- This IS NOT expected if you are initializing DistilBertModel from the checkpoint of a model that you expect to be exactly identical (initializing a BertForSequenceClassification model from a BertForSequenceClassification model).\n"
     ]
    }
   ],
   "source": [
    "saved_model_name = \"distilbert-base-finetuned-for-tweet-classification-with-random-oversampling\"\n",
    "\n",
    "model = TweetClassificationModel(MODEL_CHKPT, len(class_names))\n",
    "model.load_state_dict(\n",
    "                torch.load(f\"app/modeling/models/{saved_model_name}.pth\")\n",
    "            )\n",
    "model = model.to(torch.device(\"mps\"))"
   ]
  },
  {
   "attachments": {},
   "cell_type": "markdown",
   "metadata": {},
   "source": [
    "## Evaluate the model"
   ]
  },
  {
   "cell_type": "code",
   "execution_count": 28,
   "metadata": {},
   "outputs": [],
   "source": [
    "def forward_pass_with_label(batch):\n",
    "    with torch.inference_mode():\n",
    "\n",
    "        inputs = {k:v.to(torch.device(\"mps\")) for k,v in batch.items() if k in tokenizer.model_input_names}\n",
    "\n",
    "        output = model(input_ids = inputs[\"input_ids\"],\n",
    "                       attention_mask = inputs[\"attention_mask\"],\n",
    "                       labels=None)\n",
    "\n",
    "        pred_label = torch.argmax(output[\"logits\"], dim=1)\n",
    "\n",
    "        loss = cross_entropy(input=output.logits, target=batch[\"label\"].to(torch.device(\"mps\")), reduction=\"none\")\n",
    "\n",
    "    return {\n",
    "        \"loss\": loss.cpu().numpy(),\n",
    "        \"predicted_label\": pred_label.cpu().numpy()\n",
    "    }"
   ]
  },
  {
   "cell_type": "code",
   "execution_count": 29,
   "metadata": {},
   "outputs": [
    {
     "data": {
      "application/vnd.jupyter.widget-view+json": {
       "model_id": "955a35dcf43242eeae4383c5228b33dc",
       "version_major": 2,
       "version_minor": 0
      },
      "text/plain": [
       "Map:   0%|          | 0/2000 [00:00<?, ? examples/s]"
      ]
     },
     "metadata": {},
     "output_type": "display_data"
    }
   ],
   "source": [
    "tweets_encoded[\"test\"] = tweets_encoded[\"test\"].map(forward_pass_with_label, batched=True, batch_size=16)"
   ]
  },
  {
   "cell_type": "code",
   "execution_count": 30,
   "metadata": {},
   "outputs": [],
   "source": [
    "tweets_encoded.set_format(\"pandas\")"
   ]
  },
  {
   "cell_type": "code",
   "execution_count": 31,
   "metadata": {},
   "outputs": [],
   "source": [
    "loss_df = tweets_encoded[\"test\"][:][[\"text\", \"label\",  \"loss\", \"predicted_label\"]]\n",
    "loss_df[\"true_label\"] = [class_names[sentiment] for sentiment in loss_df[\"label\"]]\n",
    "loss_df[\"predicted_label\"] = [class_names[sentiment] for sentiment in loss_df[\"predicted_label\"]]"
   ]
  },
  {
   "cell_type": "code",
   "execution_count": 32,
   "metadata": {},
   "outputs": [
    {
     "data": {
      "text/html": [
       "<div>\n",
       "<style scoped>\n",
       "    .dataframe tbody tr th:only-of-type {\n",
       "        vertical-align: middle;\n",
       "    }\n",
       "\n",
       "    .dataframe tbody tr th {\n",
       "        vertical-align: top;\n",
       "    }\n",
       "\n",
       "    .dataframe thead th {\n",
       "        text-align: right;\n",
       "    }\n",
       "</style>\n",
       "<table border=\"1\" class=\"dataframe\">\n",
       "  <thead>\n",
       "    <tr style=\"text-align: right;\">\n",
       "      <th></th>\n",
       "      <th>text</th>\n",
       "      <th>label</th>\n",
       "      <th>loss</th>\n",
       "      <th>predicted_label</th>\n",
       "      <th>true_label</th>\n",
       "    </tr>\n",
       "  </thead>\n",
       "  <tbody>\n",
       "    <tr>\n",
       "      <th>816</th>\n",
       "      <td>whenever i put myself in others shoes and try to make the person happy</td>\n",
       "      <td>3</td>\n",
       "      <td>7.510040</td>\n",
       "      <td>joy</td>\n",
       "      <td>anger</td>\n",
       "    </tr>\n",
       "    <tr>\n",
       "      <th>1382</th>\n",
       "      <td>i cannot even begin to express in words the depth of sorrow that i feel having not posted any of my ludicrous rants over the passed days</td>\n",
       "      <td>5</td>\n",
       "      <td>6.677372</td>\n",
       "      <td>sadness</td>\n",
       "      <td>surprise</td>\n",
       "    </tr>\n",
       "    <tr>\n",
       "      <th>1928</th>\n",
       "      <td>i feel inside cause life is like a game sometimes but then you came around me the walls just disappeared nothing to surround me and keep me from my fears im unprotected see how ive opened up youve made me trust</td>\n",
       "      <td>4</td>\n",
       "      <td>6.555302</td>\n",
       "      <td>sadness</td>\n",
       "      <td>fear</td>\n",
       "    </tr>\n",
       "    <tr>\n",
       "      <th>150</th>\n",
       "      <td>im feeling rather angsty and listless</td>\n",
       "      <td>0</td>\n",
       "      <td>6.017170</td>\n",
       "      <td>love</td>\n",
       "      <td>sadness</td>\n",
       "    </tr>\n",
       "    <tr>\n",
       "      <th>193</th>\n",
       "      <td>i really dont like quinn because i feel like she will just end up hurting barney and i hated the lame ted robin storyline</td>\n",
       "      <td>3</td>\n",
       "      <td>5.689935</td>\n",
       "      <td>sadness</td>\n",
       "      <td>anger</td>\n",
       "    </tr>\n",
       "    <tr>\n",
       "      <th>426</th>\n",
       "      <td>i feel unprotected a class post count link href http reprogramming in process</td>\n",
       "      <td>0</td>\n",
       "      <td>5.279237</td>\n",
       "      <td>fear</td>\n",
       "      <td>sadness</td>\n",
       "    </tr>\n",
       "    <tr>\n",
       "      <th>1613</th>\n",
       "      <td>i feel very cheated since i am supporting the family and doing all the other stuff while he spends hours a day gaming</td>\n",
       "      <td>1</td>\n",
       "      <td>5.010377</td>\n",
       "      <td>sadness</td>\n",
       "      <td>joy</td>\n",
       "    </tr>\n",
       "    <tr>\n",
       "      <th>1206</th>\n",
       "      <td>ive come to feel about a supporting character in one of my all time favorite films giant</td>\n",
       "      <td>1</td>\n",
       "      <td>4.939119</td>\n",
       "      <td>love</td>\n",
       "      <td>joy</td>\n",
       "    </tr>\n",
       "    <tr>\n",
       "      <th>1736</th>\n",
       "      <td>i was stressed about my job search and apartment hunting and i was just feeling overwhelmed with everything that was going on</td>\n",
       "      <td>4</td>\n",
       "      <td>4.883551</td>\n",
       "      <td>surprise</td>\n",
       "      <td>fear</td>\n",
       "    </tr>\n",
       "    <tr>\n",
       "      <th>1123</th>\n",
       "      <td>i feel like the writer wants me to think so and proclaiming he no longer liked pulsars is a petty and hilarious bit of character</td>\n",
       "      <td>2</td>\n",
       "      <td>4.784617</td>\n",
       "      <td>anger</td>\n",
       "      <td>love</td>\n",
       "    </tr>\n",
       "    <tr>\n",
       "      <th>1328</th>\n",
       "      <td>i don t really know the oldest one very well and his mothering mother seems to feel that he is not sweet</td>\n",
       "      <td>1</td>\n",
       "      <td>4.185449</td>\n",
       "      <td>love</td>\n",
       "      <td>joy</td>\n",
       "    </tr>\n",
       "    <tr>\n",
       "      <th>1282</th>\n",
       "      <td>im always feeling so agitated overly excited and impatient to those who are close to me</td>\n",
       "      <td>3</td>\n",
       "      <td>4.176137</td>\n",
       "      <td>fear</td>\n",
       "      <td>anger</td>\n",
       "    </tr>\n",
       "    <tr>\n",
       "      <th>1583</th>\n",
       "      <td>i am not feeling so generous and he is sent to the sofa where he glares at me for the next six hours</td>\n",
       "      <td>1</td>\n",
       "      <td>4.074167</td>\n",
       "      <td>love</td>\n",
       "      <td>joy</td>\n",
       "    </tr>\n",
       "    <tr>\n",
       "      <th>1377</th>\n",
       "      <td>i walked to school he felt the bounce in his step the overjoyed feelings of youth and the thrill of excitement of coming to school and meeting his beloved friends</td>\n",
       "      <td>2</td>\n",
       "      <td>3.927375</td>\n",
       "      <td>joy</td>\n",
       "      <td>love</td>\n",
       "    </tr>\n",
       "    <tr>\n",
       "      <th>1558</th>\n",
       "      <td>i don t know about you but it makes me feel generous</td>\n",
       "      <td>1</td>\n",
       "      <td>3.801193</td>\n",
       "      <td>love</td>\n",
       "      <td>joy</td>\n",
       "    </tr>\n",
       "    <tr>\n",
       "      <th>415</th>\n",
       "      <td>i loved the feeling i got during an amazing slalom run whether it was in training or in a race</td>\n",
       "      <td>1</td>\n",
       "      <td>3.792520</td>\n",
       "      <td>surprise</td>\n",
       "      <td>joy</td>\n",
       "    </tr>\n",
       "    <tr>\n",
       "      <th>1381</th>\n",
       "      <td>i was like should i feel sweet or feel offended</td>\n",
       "      <td>2</td>\n",
       "      <td>3.787951</td>\n",
       "      <td>anger</td>\n",
       "      <td>love</td>\n",
       "    </tr>\n",
       "    <tr>\n",
       "      <th>1729</th>\n",
       "      <td>i felt like id developed feelings for this guy thus explaining why id even follow this guy like a faithful puppy dog and he never knew</td>\n",
       "      <td>1</td>\n",
       "      <td>3.777393</td>\n",
       "      <td>love</td>\n",
       "      <td>joy</td>\n",
       "    </tr>\n",
       "    <tr>\n",
       "      <th>759</th>\n",
       "      <td>i feel very strongly about supporting charities that help children</td>\n",
       "      <td>1</td>\n",
       "      <td>3.759403</td>\n",
       "      <td>love</td>\n",
       "      <td>joy</td>\n",
       "    </tr>\n",
       "    <tr>\n",
       "      <th>654</th>\n",
       "      <td>i met my present boyfriend on a boat trip to england we had said that we would call each other when we got back to sweden we were not going to the same town in england as soon as i walked in he called from england as he could not wait till he came home</td>\n",
       "      <td>1</td>\n",
       "      <td>3.688024</td>\n",
       "      <td>anger</td>\n",
       "      <td>joy</td>\n",
       "    </tr>\n",
       "    <tr>\n",
       "      <th>1772</th>\n",
       "      <td>i have this grave feeling it will not be back until tomorrow and strangely enough i have accepted it</td>\n",
       "      <td>1</td>\n",
       "      <td>3.586154</td>\n",
       "      <td>love</td>\n",
       "      <td>joy</td>\n",
       "    </tr>\n",
       "    <tr>\n",
       "      <th>1026</th>\n",
       "      <td>i have not conducted a survey but it is quite likely that many of them feel as assaulted by onel s demons and other creators as i would have felt had the walls been covered only with eminent figures patriotic heroes and epic deeds</td>\n",
       "      <td>0</td>\n",
       "      <td>3.577567</td>\n",
       "      <td>fear</td>\n",
       "      <td>sadness</td>\n",
       "    </tr>\n",
       "    <tr>\n",
       "      <th>1585</th>\n",
       "      <td>i firmly believe that the only way to go about this craft is to write the book that you feel passionate about and not to worry about finding the book that the mass audience desires</td>\n",
       "      <td>1</td>\n",
       "      <td>3.484042</td>\n",
       "      <td>love</td>\n",
       "      <td>joy</td>\n",
       "    </tr>\n",
       "    <tr>\n",
       "      <th>1627</th>\n",
       "      <td>i feel i can only hope im not alone in these thoughts and im sure to all you fellow exchange students you probably have the same thoughts in mind with at least some of this listed some might say being an exchange student is unlike any other experience</td>\n",
       "      <td>0</td>\n",
       "      <td>3.415829</td>\n",
       "      <td>joy</td>\n",
       "      <td>sadness</td>\n",
       "    </tr>\n",
       "    <tr>\n",
       "      <th>376</th>\n",
       "      <td>i suppose if one was feeling generous one could say i was stressed by the elevator ride</td>\n",
       "      <td>1</td>\n",
       "      <td>3.366779</td>\n",
       "      <td>love</td>\n",
       "      <td>joy</td>\n",
       "    </tr>\n",
       "    <tr>\n",
       "      <th>306</th>\n",
       "      <td>i took for granted a few weeks ago is really weird and makes me feel really agitated and frustrated</td>\n",
       "      <td>3</td>\n",
       "      <td>3.359356</td>\n",
       "      <td>fear</td>\n",
       "      <td>anger</td>\n",
       "    </tr>\n",
       "    <tr>\n",
       "      <th>1025</th>\n",
       "      <td>im not sure if its just me who feels this way or if its everyone but tortured souls dont make for the best boyfriends</td>\n",
       "      <td>3</td>\n",
       "      <td>3.228620</td>\n",
       "      <td>fear</td>\n",
       "      <td>anger</td>\n",
       "    </tr>\n",
       "    <tr>\n",
       "      <th>789</th>\n",
       "      <td>i did not feel any passionate joy</td>\n",
       "      <td>1</td>\n",
       "      <td>3.215446</td>\n",
       "      <td>love</td>\n",
       "      <td>joy</td>\n",
       "    </tr>\n",
       "    <tr>\n",
       "      <th>639</th>\n",
       "      <td>i feel more faithful than ever</td>\n",
       "      <td>1</td>\n",
       "      <td>3.176455</td>\n",
       "      <td>love</td>\n",
       "      <td>joy</td>\n",
       "    </tr>\n",
       "    <tr>\n",
       "      <th>1162</th>\n",
       "      <td>i would always have this song stuck in my head after a bombing or incident and then i would feel a bit weird about it because if you dont really pay attention to the lyrics it sounds like such a happy song not the type youre supposed to hum on difficult days</td>\n",
       "      <td>4</td>\n",
       "      <td>3.169196</td>\n",
       "      <td>surprise</td>\n",
       "      <td>fear</td>\n",
       "    </tr>\n",
       "  </tbody>\n",
       "</table>\n",
       "</div>"
      ],
      "text/plain": [
       "                                                                                                                                                                                                                                                                    text  \\\n",
       "816                                                                                                                                                                                               whenever i put myself in others shoes and try to make the person happy   \n",
       "1382                                                                                                                            i cannot even begin to express in words the depth of sorrow that i feel having not posted any of my ludicrous rants over the passed days   \n",
       "1928                                                  i feel inside cause life is like a game sometimes but then you came around me the walls just disappeared nothing to surround me and keep me from my fears im unprotected see how ive opened up youve made me trust   \n",
       "150                                                                                                                                                                                                                                im feeling rather angsty and listless   \n",
       "193                                                                                                                                            i really dont like quinn because i feel like she will just end up hurting barney and i hated the lame ted robin storyline   \n",
       "426                                                                                                                                                                                        i feel unprotected a class post count link href http reprogramming in process   \n",
       "1613                                                                                                                                               i feel very cheated since i am supporting the family and doing all the other stuff while he spends hours a day gaming   \n",
       "1206                                                                                                                                                                            ive come to feel about a supporting character in one of my all time favorite films giant   \n",
       "1736                                                                                                                                       i was stressed about my job search and apartment hunting and i was just feeling overwhelmed with everything that was going on   \n",
       "1123                                                                                                                                    i feel like the writer wants me to think so and proclaiming he no longer liked pulsars is a petty and hilarious bit of character   \n",
       "1328                                                                                                                                                            i don t really know the oldest one very well and his mothering mother seems to feel that he is not sweet   \n",
       "1282                                                                                                                                                                             im always feeling so agitated overly excited and impatient to those who are close to me   \n",
       "1583                                                                                                                                                                i am not feeling so generous and he is sent to the sofa where he glares at me for the next six hours   \n",
       "1377                                                                                                  i walked to school he felt the bounce in his step the overjoyed feelings of youth and the thrill of excitement of coming to school and meeting his beloved friends   \n",
       "1558                                                                                                                                                                                                                i don t know about you but it makes me feel generous   \n",
       "415                                                                                                                                                                       i loved the feeling i got during an amazing slalom run whether it was in training or in a race   \n",
       "1381                                                                                                                                                                                                                     i was like should i feel sweet or feel offended   \n",
       "1729                                                                                                                              i felt like id developed feelings for this guy thus explaining why id even follow this guy like a faithful puppy dog and he never knew   \n",
       "759                                                                                                                                                                                                   i feel very strongly about supporting charities that help children   \n",
       "654         i met my present boyfriend on a boat trip to england we had said that we would call each other when we got back to sweden we were not going to the same town in england as soon as i walked in he called from england as he could not wait till he came home   \n",
       "1772                                                                                                                                                                i have this grave feeling it will not be back until tomorrow and strangely enough i have accepted it   \n",
       "1026                              i have not conducted a survey but it is quite likely that many of them feel as assaulted by onel s demons and other creators as i would have felt had the walls been covered only with eminent figures patriotic heroes and epic deeds   \n",
       "1585                                                                                i firmly believe that the only way to go about this craft is to write the book that you feel passionate about and not to worry about finding the book that the mass audience desires   \n",
       "1627         i feel i can only hope im not alone in these thoughts and im sure to all you fellow exchange students you probably have the same thoughts in mind with at least some of this listed some might say being an exchange student is unlike any other experience   \n",
       "376                                                                                                                                                                              i suppose if one was feeling generous one could say i was stressed by the elevator ride   \n",
       "306                                                                                                                                                                  i took for granted a few weeks ago is really weird and makes me feel really agitated and frustrated   \n",
       "1025                                                                                                                                               im not sure if its just me who feels this way or if its everyone but tortured souls dont make for the best boyfriends   \n",
       "789                                                                                                                                                                                                                                    i did not feel any passionate joy   \n",
       "639                                                                                                                                                                                                                                       i feel more faithful than ever   \n",
       "1162  i would always have this song stuck in my head after a bombing or incident and then i would feel a bit weird about it because if you dont really pay attention to the lyrics it sounds like such a happy song not the type youre supposed to hum on difficult days   \n",
       "\n",
       "      label      loss predicted_label true_label  \n",
       "816       3  7.510040             joy      anger  \n",
       "1382      5  6.677372         sadness   surprise  \n",
       "1928      4  6.555302         sadness       fear  \n",
       "150       0  6.017170            love    sadness  \n",
       "193       3  5.689935         sadness      anger  \n",
       "426       0  5.279237            fear    sadness  \n",
       "1613      1  5.010377         sadness        joy  \n",
       "1206      1  4.939119            love        joy  \n",
       "1736      4  4.883551        surprise       fear  \n",
       "1123      2  4.784617           anger       love  \n",
       "1328      1  4.185449            love        joy  \n",
       "1282      3  4.176137            fear      anger  \n",
       "1583      1  4.074167            love        joy  \n",
       "1377      2  3.927375             joy       love  \n",
       "1558      1  3.801193            love        joy  \n",
       "415       1  3.792520        surprise        joy  \n",
       "1381      2  3.787951           anger       love  \n",
       "1729      1  3.777393            love        joy  \n",
       "759       1  3.759403            love        joy  \n",
       "654       1  3.688024           anger        joy  \n",
       "1772      1  3.586154            love        joy  \n",
       "1026      0  3.577567            fear    sadness  \n",
       "1585      1  3.484042            love        joy  \n",
       "1627      0  3.415829             joy    sadness  \n",
       "376       1  3.366779            love        joy  \n",
       "306       3  3.359356            fear      anger  \n",
       "1025      3  3.228620            fear      anger  \n",
       "789       1  3.215446            love        joy  \n",
       "639       1  3.176455            love        joy  \n",
       "1162      4  3.169196        surprise       fear  "
      ]
     },
     "execution_count": 32,
     "metadata": {},
     "output_type": "execute_result"
    }
   ],
   "source": [
    "loss_df.sort_values(\"loss\", ascending=False).head(30)"
   ]
  },
  {
   "cell_type": "code",
   "execution_count": 33,
   "metadata": {},
   "outputs": [],
   "source": [
    "def plot_confusion_matrix(y_preds, y_true, labels):\n",
    "    cm = confusion_matrix(y_true, y_preds, normalize=\"true\")\n",
    "    fig, ax = plt.subplots(figsize=(6,6))\n",
    "    disp = ConfusionMatrixDisplay(confusion_matrix=cm, display_labels=labels)\n",
    "    disp.plot(cmap=\"Blues\", values_format=\".2f\", ax=ax, colorbar=False)\n",
    "    plt.title(\"Normalized Confusion Matrix\")\n",
    "    plt.show()"
   ]
  },
  {
   "cell_type": "code",
   "execution_count": 34,
   "metadata": {},
   "outputs": [
    {
     "data": {
      "image/png": "[encoded data removed]",
      "text/plain": [
       "<Figure size 600x600 with 1 Axes>"
      ]
     },
     "metadata": {},
     "output_type": "display_data"
    }
   ],
   "source": [
    "plot_confusion_matrix(loss_df[\"predicted_label\"], loss_df[\"true_label\"], labels=class_names)"
   ]
  },
  {
   "cell_type": "code",
   "execution_count": 35,
   "metadata": {},
   "outputs": [],
   "source": [
    "recall = recall_score(loss_df[\"true_label\"], loss_df[\"predicted_label\"], average=\"weighted\")\n",
    "precision = precision_score(loss_df[\"true_label\"], loss_df[\"predicted_label\"], average=\"weighted\")\n",
    "accuracy = accuracy_score(loss_df[\"true_label\"], loss_df[\"predicted_label\"])\n",
    "f1_score = f1_score(loss_df[\"true_label\"], loss_df[\"predicted_label\"], average=\"weighted\")"
   ]
  },
  {
   "cell_type": "code",
   "execution_count": 36,
   "metadata": {},
   "outputs": [
    {
     "data": {
      "text/html": [
       "<div>\n",
       "<style scoped>\n",
       "    .dataframe tbody tr th:only-of-type {\n",
       "        vertical-align: middle;\n",
       "    }\n",
       "\n",
       "    .dataframe tbody tr th {\n",
       "        vertical-align: top;\n",
       "    }\n",
       "\n",
       "    .dataframe thead th {\n",
       "        text-align: right;\n",
       "    }\n",
       "</style>\n",
       "<table border=\"1\" class=\"dataframe\">\n",
       "  <thead>\n",
       "    <tr style=\"text-align: right;\">\n",
       "      <th></th>\n",
       "      <th>precision</th>\n",
       "      <th>recall</th>\n",
       "      <th>f1</th>\n",
       "      <th>accuracy</th>\n",
       "    </tr>\n",
       "  </thead>\n",
       "  <tbody>\n",
       "    <tr>\n",
       "      <th>distilbert-base-finetuned-for-tweet-classification-with-random-oversampling</th>\n",
       "      <td>0.93277</td>\n",
       "      <td>0.9225</td>\n",
       "      <td>0.924712</td>\n",
       "      <td>0.9225</td>\n",
       "    </tr>\n",
       "  </tbody>\n",
       "</table>\n",
       "</div>"
      ],
      "text/plain": [
       "                                                                             precision  \\\n",
       "distilbert-base-finetuned-for-tweet-classification-with-random-oversampling    0.93277   \n",
       "\n",
       "                                                                             recall  \\\n",
       "distilbert-base-finetuned-for-tweet-classification-with-random-oversampling  0.9225   \n",
       "\n",
       "                                                                                   f1  \\\n",
       "distilbert-base-finetuned-for-tweet-classification-with-random-oversampling  0.924712   \n",
       "\n",
       "                                                                             accuracy  \n",
       "distilbert-base-finetuned-for-tweet-classification-with-random-oversampling    0.9225  "
      ]
     },
     "execution_count": 36,
     "metadata": {},
     "output_type": "execute_result"
    }
   ],
   "source": [
    "pd.DataFrame({\"precision\": precision,\n",
    "              \"recall\": recall,\n",
    "              \"f1\": f1_score,\n",
    "              \"accuracy\": accuracy}, \n",
    "              index=[saved_model_name])"
   ]
  },
  {
   "cell_type": "code",
   "execution_count": null,
   "metadata": {},
   "outputs": [],
   "source": []
  }
 ],
 "metadata": {
  "kernelspec": {
   "display_name": "mlenv",
   "language": "python",
   "name": "python3"
  },
  "language_info": {
   "codemirror_mode": {
    "name": "ipython",
    "version": 3
   },
   "file_extension": ".py",
   "mimetype": "text/x-python",
   "name": "python",
   "nbconvert_exporter": "python",
   "pygments_lexer": "ipython3",
   "version": "3.10.8"
  },
  "orig_nbformat": 4
 },
 "nbformat": 4,
 "nbformat_minor": 2
}
