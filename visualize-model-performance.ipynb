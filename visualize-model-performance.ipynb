{
 "cells": [
  {
   "cell_type": "code",
   "execution_count": 1,
   "metadata": {},
   "outputs": [],
   "source": [
    "import pandas as pd\n",
    "import matplotlib.pyplot as plt\n",
    "import transformers\n",
    "import torch\n",
    "\n",
    "from transformers import AutoTokenizer\n",
    "from datasets import load_dataset\n",
    "from sklearn.metrics import ConfusionMatrixDisplay, confusion_matrix\n",
    "from torch.nn.functional import cross_entropy\n",
    "from app.modeling.model import TweetClassificationModel"
   ]
  },
  {
   "attachments": {},
   "cell_type": "markdown",
   "metadata": {},
   "source": [
    "## Load Data"
   ]
  },
  {
   "cell_type": "code",
   "execution_count": 2,
   "metadata": {},
   "outputs": [],
   "source": [
    "pd.set_option('display.max_colwidth', None)"
   ]
  },
  {
   "cell_type": "code",
   "execution_count": 3,
   "metadata": {},
   "outputs": [
    {
     "name": "stderr",
     "output_type": "stream",
     "text": [
      "No config specified, defaulting to: emotion/split\n",
      "Found cached dataset emotion (/Users/davidbreinl/.cache/huggingface/datasets/emotion/split/1.0.0/cca5efe2dfeb58c1d098e0f9eeb200e9927d889b5a03c67097275dfb5fe463bd)\n"
     ]
    },
    {
     "data": {
      "application/vnd.jupyter.widget-view+json": {
       "model_id": "2779424435d04d5cadf415cc8074f5a0",
       "version_major": 2,
       "version_minor": 0
      },
      "text/plain": [
       "  0%|          | 0/3 [00:00<?, ?it/s]"
      ]
     },
     "metadata": {},
     "output_type": "display_data"
    }
   ],
   "source": [
    "emotions_ds = load_dataset(\"emotion\")"
   ]
  },
  {
   "cell_type": "code",
   "execution_count": 4,
   "metadata": {},
   "outputs": [
    {
     "data": {
      "text/plain": [
       "['sadness', 'joy', 'love', 'anger', 'fear', 'surprise']"
      ]
     },
     "execution_count": 4,
     "metadata": {},
     "output_type": "execute_result"
    }
   ],
   "source": [
    "class_names = emotions_ds[\"train\"].features[\"label\"].names\n",
    "class_names"
   ]
  },
  {
   "cell_type": "code",
   "execution_count": 5,
   "metadata": {},
   "outputs": [
    {
     "data": {
      "text/plain": [
       "{'input_ids': tensor([[  101,  2023,  2003,  1037,  3231,  1999,  2344,  2000,  2156,  2065,\n",
       "          1996,  4372, 16044,  2099,  2003,  2551,   102]]), 'attention_mask': tensor([[1, 1, 1, 1, 1, 1, 1, 1, 1, 1, 1, 1, 1, 1, 1, 1, 1]])}"
      ]
     },
     "execution_count": 5,
     "metadata": {},
     "output_type": "execute_result"
    }
   ],
   "source": [
    "MODEL_CHKPT = \"distilbert-base-uncased\"\n",
    "\n",
    "tokenizer = AutoTokenizer.from_pretrained(MODEL_CHKPT)\n",
    "\n",
    "tokenizer(\"this is a test in order to see if the encoder is working\", return_tensors=\"pt\")"
   ]
  },
  {
   "cell_type": "code",
   "execution_count": 6,
   "metadata": {},
   "outputs": [],
   "source": [
    "def tokenize_batch(batch):\n",
    "    return tokenizer(batch[\"text\"], \n",
    "                     padding=True,\n",
    "                     truncation=True,\n",
    "                     add_special_tokens=True,\n",
    "                     return_tensors=\"pt\")"
   ]
  },
  {
   "cell_type": "code",
   "execution_count": 7,
   "metadata": {},
   "outputs": [
    {
     "name": "stderr",
     "output_type": "stream",
     "text": [
      "Loading cached processed dataset at /Users/davidbreinl/.cache/huggingface/datasets/emotion/split/1.0.0/cca5efe2dfeb58c1d098e0f9eeb200e9927d889b5a03c67097275dfb5fe463bd/cache-b324fc8d9823e7f9.arrow\n",
      "Loading cached processed dataset at /Users/davidbreinl/.cache/huggingface/datasets/emotion/split/1.0.0/cca5efe2dfeb58c1d098e0f9eeb200e9927d889b5a03c67097275dfb5fe463bd/cache-1a6f8804dcb677d0.arrow\n",
      "Loading cached processed dataset at /Users/davidbreinl/.cache/huggingface/datasets/emotion/split/1.0.0/cca5efe2dfeb58c1d098e0f9eeb200e9927d889b5a03c67097275dfb5fe463bd/cache-3f93778ab3d480f2.arrow\n"
     ]
    }
   ],
   "source": [
    "tweets_encoded = emotions_ds.map(tokenize_batch, batched=True, batch_size=None)"
   ]
  },
  {
   "cell_type": "code",
   "execution_count": 8,
   "metadata": {},
   "outputs": [],
   "source": [
    "tweets_encoded.set_format(\"torch\",\n",
    "                          columns=[\"input_ids\", \"attention_mask\", \"label\"])"
   ]
  },
  {
   "attachments": {},
   "cell_type": "markdown",
   "metadata": {},
   "source": [
    "## Load Model"
   ]
  },
  {
   "cell_type": "code",
   "execution_count": 9,
   "metadata": {},
   "outputs": [
    {
     "name": "stderr",
     "output_type": "stream",
     "text": [
      "Some weights of the model checkpoint at distilbert-base-uncased were not used when initializing DistilBertModel: ['vocab_layer_norm.bias', 'vocab_transform.weight', 'vocab_projector.weight', 'vocab_layer_norm.weight', 'vocab_projector.bias', 'vocab_transform.bias']\n",
      "- This IS expected if you are initializing DistilBertModel from the checkpoint of a model trained on another task or with another architecture (e.g. initializing a BertForSequenceClassification model from a BertForPreTraining model).\n",
      "- This IS NOT expected if you are initializing DistilBertModel from the checkpoint of a model that you expect to be exactly identical (initializing a BertForSequenceClassification model from a BertForSequenceClassification model).\n"
     ]
    }
   ],
   "source": [
    "saved_model_name = \"distilbert-base-finetuned-for-tweet-classification\"\n",
    "\n",
    "model = TweetClassificationModel(MODEL_CHKPT, len(class_names))\n",
    "model.load_state_dict(\n",
    "                torch.load(f\"app/modeling/models/{saved_model_name}.pth\")\n",
    "            )\n",
    "model = model.to(torch.device(\"mps\"))"
   ]
  },
  {
   "attachments": {},
   "cell_type": "markdown",
   "metadata": {},
   "source": [
    "## Evaluate the model"
   ]
  },
  {
   "cell_type": "code",
   "execution_count": 10,
   "metadata": {},
   "outputs": [],
   "source": [
    "def forward_pass_with_label(batch):\n",
    "    with torch.inference_mode():\n",
    "\n",
    "        inputs = {k:v.to(torch.device(\"mps\")) for k,v in batch.items() if k in tokenizer.model_input_names}\n",
    "\n",
    "        output = model(input_ids = inputs[\"input_ids\"],\n",
    "                       attention_mask = inputs[\"attention_mask\"],\n",
    "                       labels=None)\n",
    "\n",
    "        pred_label = torch.argmax(output[\"logits\"], dim=1)\n",
    "\n",
    "        loss = cross_entropy(input=output.logits, target=batch[\"label\"].to(torch.device(\"mps\")), reduction=\"none\")\n",
    "\n",
    "    return {\n",
    "        \"loss\": loss.cpu().numpy(),\n",
    "        \"predicted_label\": pred_label.cpu().numpy()\n",
    "    }"
   ]
  },
  {
   "cell_type": "code",
   "execution_count": 11,
   "metadata": {},
   "outputs": [
    {
     "name": "stderr",
     "output_type": "stream",
     "text": [
      "/Users/davidbreinl/opt/anaconda3/envs/mlenv/lib/python3.10/site-packages/torch/_tensor_str.py:115: UserWarning: The operator 'aten::nonzero' is not currently supported on the MPS backend and will fall back to run on the CPU. This may have performance implications. (Triggered internally at /Users/runner/work/_temp/anaconda/conda-bld/pytorch_1666646991213/work/aten/src/ATen/mps/MPSFallback.mm:11.)\n",
      "  nonzero_finite_vals = torch.masked_select(\n"
     ]
    },
    {
     "data": {
      "application/vnd.jupyter.widget-view+json": {
       "model_id": "5006e33fa0a64bddb94459bd189d17d2",
       "version_major": 2,
       "version_minor": 0
      },
      "text/plain": [
       "Map:   0%|          | 0/2000 [00:00<?, ? examples/s]"
      ]
     },
     "metadata": {},
     "output_type": "display_data"
    }
   ],
   "source": [
    "tweets_encoded[\"test\"] = tweets_encoded[\"test\"].map(forward_pass_with_label, batched=True, batch_size=16)"
   ]
  },
  {
   "cell_type": "code",
   "execution_count": 12,
   "metadata": {},
   "outputs": [],
   "source": [
    "tweets_encoded.set_format(\"pandas\")"
   ]
  },
  {
   "cell_type": "code",
   "execution_count": 13,
   "metadata": {},
   "outputs": [],
   "source": [
    "loss_df = tweets_encoded[\"test\"][:][[\"text\", \"label\",  \"loss\", \"predicted_label\"]]\n",
    "loss_df[\"true_label\"] = [class_names[sentiment] for sentiment in loss_df[\"label\"]]\n",
    "loss_df[\"predicted_label\"] = [class_names[sentiment] for sentiment in loss_df[\"predicted_label\"]]"
   ]
  },
  {
   "cell_type": "code",
   "execution_count": 14,
   "metadata": {},
   "outputs": [
    {
     "data": {
      "text/html": [
       "<div>\n",
       "<style scoped>\n",
       "    .dataframe tbody tr th:only-of-type {\n",
       "        vertical-align: middle;\n",
       "    }\n",
       "\n",
       "    .dataframe tbody tr th {\n",
       "        vertical-align: top;\n",
       "    }\n",
       "\n",
       "    .dataframe thead th {\n",
       "        text-align: right;\n",
       "    }\n",
       "</style>\n",
       "<table border=\"1\" class=\"dataframe\">\n",
       "  <thead>\n",
       "    <tr style=\"text-align: right;\">\n",
       "      <th></th>\n",
       "      <th>text</th>\n",
       "      <th>label</th>\n",
       "      <th>loss</th>\n",
       "      <th>predicted_label</th>\n",
       "      <th>true_label</th>\n",
       "    </tr>\n",
       "  </thead>\n",
       "  <tbody>\n",
       "    <tr>\n",
       "      <th>816</th>\n",
       "      <td>whenever i put myself in others shoes and try to make the person happy</td>\n",
       "      <td>3</td>\n",
       "      <td>8.944002</td>\n",
       "      <td>joy</td>\n",
       "      <td>anger</td>\n",
       "    </tr>\n",
       "    <tr>\n",
       "      <th>1928</th>\n",
       "      <td>i feel inside cause life is like a game sometimes but then you came around me the walls just disappeared nothing to surround me and keep me from my fears im unprotected see how ive opened up youve made me trust</td>\n",
       "      <td>4</td>\n",
       "      <td>8.523156</td>\n",
       "      <td>sadness</td>\n",
       "      <td>fear</td>\n",
       "    </tr>\n",
       "    <tr>\n",
       "      <th>1613</th>\n",
       "      <td>i feel very cheated since i am supporting the family and doing all the other stuff while he spends hours a day gaming</td>\n",
       "      <td>1</td>\n",
       "      <td>6.955326</td>\n",
       "      <td>sadness</td>\n",
       "      <td>joy</td>\n",
       "    </tr>\n",
       "    <tr>\n",
       "      <th>150</th>\n",
       "      <td>im feeling rather angsty and listless</td>\n",
       "      <td>0</td>\n",
       "      <td>6.898370</td>\n",
       "      <td>love</td>\n",
       "      <td>sadness</td>\n",
       "    </tr>\n",
       "    <tr>\n",
       "      <th>1253</th>\n",
       "      <td>i don t feel betrayed coz the backstabber had no grounds for their accusation but i m just amazed at some people s ability to do such things</td>\n",
       "      <td>5</td>\n",
       "      <td>5.470772</td>\n",
       "      <td>sadness</td>\n",
       "      <td>surprise</td>\n",
       "    </tr>\n",
       "    <tr>\n",
       "      <th>1270</th>\n",
       "      <td>i feel very saddened that the king whom i once quite respected as far as monarchs go was ineffectual at best</td>\n",
       "      <td>1</td>\n",
       "      <td>4.646597</td>\n",
       "      <td>sadness</td>\n",
       "      <td>joy</td>\n",
       "    </tr>\n",
       "    <tr>\n",
       "      <th>1837</th>\n",
       "      <td>i hate these feelings in my heart i hate that work stressed me out i hate that cornelius wont let me get my way im frustrated lord</td>\n",
       "      <td>0</td>\n",
       "      <td>4.568183</td>\n",
       "      <td>anger</td>\n",
       "      <td>sadness</td>\n",
       "    </tr>\n",
       "    <tr>\n",
       "      <th>125</th>\n",
       "      <td>i feel very mislead by someone that i really really thought i knew and liked very much so</td>\n",
       "      <td>2</td>\n",
       "      <td>4.535568</td>\n",
       "      <td>anger</td>\n",
       "      <td>love</td>\n",
       "    </tr>\n",
       "    <tr>\n",
       "      <th>1377</th>\n",
       "      <td>i walked to school he felt the bounce in his step the overjoyed feelings of youth and the thrill of excitement of coming to school and meeting his beloved friends</td>\n",
       "      <td>2</td>\n",
       "      <td>4.344568</td>\n",
       "      <td>joy</td>\n",
       "      <td>love</td>\n",
       "    </tr>\n",
       "    <tr>\n",
       "      <th>1206</th>\n",
       "      <td>ive come to feel about a supporting character in one of my all time favorite films giant</td>\n",
       "      <td>1</td>\n",
       "      <td>4.018548</td>\n",
       "      <td>love</td>\n",
       "      <td>joy</td>\n",
       "    </tr>\n",
       "    <tr>\n",
       "      <th>468</th>\n",
       "      <td>i cant help feeling this way</td>\n",
       "      <td>0</td>\n",
       "      <td>3.978761</td>\n",
       "      <td>joy</td>\n",
       "      <td>sadness</td>\n",
       "    </tr>\n",
       "    <tr>\n",
       "      <th>1533</th>\n",
       "      <td>i actually was in a meeting last week where someone yelled at an older lady because her phone rang i felt terrible for her your boss treats you unfairly or in this case someone makes you feel you are not worth anything is only allowing those who offended to steal your joy</td>\n",
       "      <td>3</td>\n",
       "      <td>3.939514</td>\n",
       "      <td>sadness</td>\n",
       "      <td>anger</td>\n",
       "    </tr>\n",
       "    <tr>\n",
       "      <th>1383</th>\n",
       "      <td>this monday i took a math bs test and flunked for the second time</td>\n",
       "      <td>0</td>\n",
       "      <td>3.776026</td>\n",
       "      <td>joy</td>\n",
       "      <td>sadness</td>\n",
       "    </tr>\n",
       "    <tr>\n",
       "      <th>1780</th>\n",
       "      <td>when i learnt that my best friend had failed the exams</td>\n",
       "      <td>3</td>\n",
       "      <td>3.656068</td>\n",
       "      <td>sadness</td>\n",
       "      <td>anger</td>\n",
       "    </tr>\n",
       "    <tr>\n",
       "      <th>1431</th>\n",
       "      <td>i felt a stronger wish to be free from self cherishing through my refuge practice and a return to the feeling of freedom and protection from suffering which i stayed with for the rest of the meditation</td>\n",
       "      <td>0</td>\n",
       "      <td>3.647631</td>\n",
       "      <td>joy</td>\n",
       "      <td>sadness</td>\n",
       "    </tr>\n",
       "    <tr>\n",
       "      <th>1150</th>\n",
       "      <td>when i heard the last regulation of the socialist govrenment concerning pensions</td>\n",
       "      <td>0</td>\n",
       "      <td>3.638304</td>\n",
       "      <td>anger</td>\n",
       "      <td>sadness</td>\n",
       "    </tr>\n",
       "    <tr>\n",
       "      <th>347</th>\n",
       "      <td>i feel agitated and annoyed more than worried or fearful but these feelings can easily lead to being short tempered with my family and feelings of disharmony</td>\n",
       "      <td>4</td>\n",
       "      <td>3.631068</td>\n",
       "      <td>anger</td>\n",
       "      <td>fear</td>\n",
       "    </tr>\n",
       "    <tr>\n",
       "      <th>1959</th>\n",
       "      <td>i check you when you re sleeping feel your nose and toes to be sure you aren t too hot or cold</td>\n",
       "      <td>1</td>\n",
       "      <td>3.129932</td>\n",
       "      <td>love</td>\n",
       "      <td>joy</td>\n",
       "    </tr>\n",
       "    <tr>\n",
       "      <th>863</th>\n",
       "      <td>i feel betrayed and angry and sad at the same time dammit</td>\n",
       "      <td>3</td>\n",
       "      <td>3.022875</td>\n",
       "      <td>sadness</td>\n",
       "      <td>anger</td>\n",
       "    </tr>\n",
       "    <tr>\n",
       "      <th>1025</th>\n",
       "      <td>im not sure if its just me who feels this way or if its everyone but tortured souls dont make for the best boyfriends</td>\n",
       "      <td>3</td>\n",
       "      <td>2.886151</td>\n",
       "      <td>fear</td>\n",
       "      <td>anger</td>\n",
       "    </tr>\n",
       "    <tr>\n",
       "      <th>1146</th>\n",
       "      <td>i feel affirmed gracious sensuous and will have less self doubt when a href http generations</td>\n",
       "      <td>2</td>\n",
       "      <td>2.756704</td>\n",
       "      <td>joy</td>\n",
       "      <td>love</td>\n",
       "    </tr>\n",
       "    <tr>\n",
       "      <th>466</th>\n",
       "      <td>i feel his hand on me to stay faithful</td>\n",
       "      <td>2</td>\n",
       "      <td>2.745602</td>\n",
       "      <td>joy</td>\n",
       "      <td>love</td>\n",
       "    </tr>\n",
       "    <tr>\n",
       "      <th>1736</th>\n",
       "      <td>i was stressed about my job search and apartment hunting and i was just feeling overwhelmed with everything that was going on</td>\n",
       "      <td>4</td>\n",
       "      <td>2.738106</td>\n",
       "      <td>surprise</td>\n",
       "      <td>fear</td>\n",
       "    </tr>\n",
       "    <tr>\n",
       "      <th>426</th>\n",
       "      <td>i feel unprotected a class post count link href http reprogramming in process</td>\n",
       "      <td>0</td>\n",
       "      <td>2.625133</td>\n",
       "      <td>fear</td>\n",
       "      <td>sadness</td>\n",
       "    </tr>\n",
       "    <tr>\n",
       "      <th>193</th>\n",
       "      <td>i really dont like quinn because i feel like she will just end up hurting barney and i hated the lame ted robin storyline</td>\n",
       "      <td>3</td>\n",
       "      <td>2.623466</td>\n",
       "      <td>sadness</td>\n",
       "      <td>anger</td>\n",
       "    </tr>\n",
       "    <tr>\n",
       "      <th>1935</th>\n",
       "      <td>ive started feeling like almost nothing is worth getting agitated about</td>\n",
       "      <td>4</td>\n",
       "      <td>2.487961</td>\n",
       "      <td>anger</td>\n",
       "      <td>fear</td>\n",
       "    </tr>\n",
       "    <tr>\n",
       "      <th>1607</th>\n",
       "      <td>i felt it had a slight bitterness in the finish that detracted from its oily mouthfeel and sweet entry</td>\n",
       "      <td>1</td>\n",
       "      <td>2.365079</td>\n",
       "      <td>love</td>\n",
       "      <td>joy</td>\n",
       "    </tr>\n",
       "    <tr>\n",
       "      <th>1592</th>\n",
       "      <td>i have strong feelings about being faithful</td>\n",
       "      <td>2</td>\n",
       "      <td>2.357963</td>\n",
       "      <td>joy</td>\n",
       "      <td>love</td>\n",
       "    </tr>\n",
       "    <tr>\n",
       "      <th>10</th>\n",
       "      <td>i don t feel particularly agitated</td>\n",
       "      <td>4</td>\n",
       "      <td>2.336685</td>\n",
       "      <td>anger</td>\n",
       "      <td>fear</td>\n",
       "    </tr>\n",
       "    <tr>\n",
       "      <th>845</th>\n",
       "      <td>i did feel rather like a celebrity and widget stood and let herself be admired while she drank orange squash from my cup</td>\n",
       "      <td>1</td>\n",
       "      <td>2.225029</td>\n",
       "      <td>love</td>\n",
       "      <td>joy</td>\n",
       "    </tr>\n",
       "  </tbody>\n",
       "</table>\n",
       "</div>"
      ],
      "text/plain": [
       "                                                                                                                                                                                                                                                                                  text  \\\n",
       "816                                                                                                                                                                                                             whenever i put myself in others shoes and try to make the person happy   \n",
       "1928                                                                i feel inside cause life is like a game sometimes but then you came around me the walls just disappeared nothing to surround me and keep me from my fears im unprotected see how ive opened up youve made me trust   \n",
       "1613                                                                                                                                                             i feel very cheated since i am supporting the family and doing all the other stuff while he spends hours a day gaming   \n",
       "150                                                                                                                                                                                                                                              im feeling rather angsty and listless   \n",
       "1253                                                                                                                                      i don t feel betrayed coz the backstabber had no grounds for their accusation but i m just amazed at some people s ability to do such things   \n",
       "1270                                                                                                                                                                      i feel very saddened that the king whom i once quite respected as far as monarchs go was ineffectual at best   \n",
       "1837                                                                                                                                                i hate these feelings in my heart i hate that work stressed me out i hate that cornelius wont let me get my way im frustrated lord   \n",
       "125                                                                                                                                                                                          i feel very mislead by someone that i really really thought i knew and liked very much so   \n",
       "1377                                                                                                                i walked to school he felt the bounce in his step the overjoyed feelings of youth and the thrill of excitement of coming to school and meeting his beloved friends   \n",
       "1206                                                                                                                                                                                          ive come to feel about a supporting character in one of my all time favorite films giant   \n",
       "468                                                                                                                                                                                                                                                       i cant help feeling this way   \n",
       "1533  i actually was in a meeting last week where someone yelled at an older lady because her phone rang i felt terrible for her your boss treats you unfairly or in this case someone makes you feel you are not worth anything is only allowing those who offended to steal your joy   \n",
       "1383                                                                                                                                                                                                                 this monday i took a math bs test and flunked for the second time   \n",
       "1780                                                                                                                                                                                                                            when i learnt that my best friend had failed the exams   \n",
       "1431                                                                         i felt a stronger wish to be free from self cherishing through my refuge practice and a return to the feeling of freedom and protection from suffering which i stayed with for the rest of the meditation   \n",
       "1150                                                                                                                                                                                                  when i heard the last regulation of the socialist govrenment concerning pensions   \n",
       "347                                                                                                                      i feel agitated and annoyed more than worried or fearful but these feelings can easily lead to being short tempered with my family and feelings of disharmony   \n",
       "1959                                                                                                                                                                                    i check you when you re sleeping feel your nose and toes to be sure you aren t too hot or cold   \n",
       "863                                                                                                                                                                                                                          i feel betrayed and angry and sad at the same time dammit   \n",
       "1025                                                                                                                                                             im not sure if its just me who feels this way or if its everyone but tortured souls dont make for the best boyfriends   \n",
       "1146                                                                                                                                                                                      i feel affirmed gracious sensuous and will have less self doubt when a href http generations   \n",
       "466                                                                                                                                                                                                                                             i feel his hand on me to stay faithful   \n",
       "1736                                                                                                                                                     i was stressed about my job search and apartment hunting and i was just feeling overwhelmed with everything that was going on   \n",
       "426                                                                                                                                                                                                      i feel unprotected a class post count link href http reprogramming in process   \n",
       "193                                                                                                                                                          i really dont like quinn because i feel like she will just end up hurting barney and i hated the lame ted robin storyline   \n",
       "1935                                                                                                                                                                                                           ive started feeling like almost nothing is worth getting agitated about   \n",
       "1607                                                                                                                                                                            i felt it had a slight bitterness in the finish that detracted from its oily mouthfeel and sweet entry   \n",
       "1592                                                                                                                                                                                                                                       i have strong feelings about being faithful   \n",
       "10                                                                                                                                                                                                                                                  i don t feel particularly agitated   \n",
       "845                                                                                                                                                           i did feel rather like a celebrity and widget stood and let herself be admired while she drank orange squash from my cup   \n",
       "\n",
       "      label      loss predicted_label true_label  \n",
       "816       3  8.944002             joy      anger  \n",
       "1928      4  8.523156         sadness       fear  \n",
       "1613      1  6.955326         sadness        joy  \n",
       "150       0  6.898370            love    sadness  \n",
       "1253      5  5.470772         sadness   surprise  \n",
       "1270      1  4.646597         sadness        joy  \n",
       "1837      0  4.568183           anger    sadness  \n",
       "125       2  4.535568           anger       love  \n",
       "1377      2  4.344568             joy       love  \n",
       "1206      1  4.018548            love        joy  \n",
       "468       0  3.978761             joy    sadness  \n",
       "1533      3  3.939514         sadness      anger  \n",
       "1383      0  3.776026             joy    sadness  \n",
       "1780      3  3.656068         sadness      anger  \n",
       "1431      0  3.647631             joy    sadness  \n",
       "1150      0  3.638304           anger    sadness  \n",
       "347       4  3.631068           anger       fear  \n",
       "1959      1  3.129932            love        joy  \n",
       "863       3  3.022875         sadness      anger  \n",
       "1025      3  2.886151            fear      anger  \n",
       "1146      2  2.756704             joy       love  \n",
       "466       2  2.745602             joy       love  \n",
       "1736      4  2.738106        surprise       fear  \n",
       "426       0  2.625133            fear    sadness  \n",
       "193       3  2.623466         sadness      anger  \n",
       "1935      4  2.487961           anger       fear  \n",
       "1607      1  2.365079            love        joy  \n",
       "1592      2  2.357963             joy       love  \n",
       "10        4  2.336685           anger       fear  \n",
       "845       1  2.225029            love        joy  "
      ]
     },
     "execution_count": 14,
     "metadata": {},
     "output_type": "execute_result"
    }
   ],
   "source": [
    "loss_df.sort_values(\"loss\", ascending=False).head(30)"
   ]
  },
  {
   "cell_type": "code",
   "execution_count": 15,
   "metadata": {},
   "outputs": [],
   "source": [
    "def plot_confusion_matrix(y_preds, y_true, labels):\n",
    "    cm = confusion_matrix(y_true, y_preds, normalize=\"true\")\n",
    "    fig, ax = plt.subplots(figsize=(6,6))\n",
    "    disp = ConfusionMatrixDisplay(confusion_matrix=cm, display_labels=labels)\n",
    "    disp.plot(cmap=\"Blues\", values_format=\".2f\", ax=ax, colorbar=False)\n",
    "    plt.title(\"Normalized Confusion Matrix\")\n",
    "    plt.show()"
   ]
  },
  {
   "cell_type": "code",
   "execution_count": 16,
   "metadata": {},
   "outputs": [
    {
     "data": {
      "image/png": "[encoded data removed]",
      "text/plain": [
       "<Figure size 600x600 with 1 Axes>"
      ]
     },
     "metadata": {},
     "output_type": "display_data"
    }
   ],
   "source": [
    "plot_confusion_matrix(loss_df[\"predicted_label\"], loss_df[\"true_label\"], labels=class_names)"
   ]
  },
  {
   "cell_type": "code",
   "execution_count": null,
   "metadata": {},
   "outputs": [],
   "source": []
  }
 ],
 "metadata": {
  "kernelspec": {
   "display_name": "mlenv",
   "language": "python",
   "name": "python3"
  },
  "language_info": {
   "codemirror_mode": {
    "name": "ipython",
    "version": 3
   },
   "file_extension": ".py",
   "mimetype": "text/x-python",
   "name": "python",
   "nbconvert_exporter": "python",
   "pygments_lexer": "ipython3",
   "version": "3.10.8"
  },
  "orig_nbformat": 4
 },
 "nbformat": 4,
 "nbformat_minor": 2
}
