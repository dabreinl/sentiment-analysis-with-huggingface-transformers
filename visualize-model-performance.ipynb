{
 "cells": [
  {
   "cell_type": "code",
   "execution_count": 1,
   "metadata": {},
   "outputs": [],
   "source": [
    "import pandas as pd\n",
    "import matplotlib.pyplot as plt\n",
    "import transformers\n",
    "import torch\n",
    "\n",
    "from transformers import AutoTokenizer\n",
    "from datasets import load_dataset\n",
    "from sklearn.metrics import ConfusionMatrixDisplay, confusion_matrix\n",
    "from torch.nn.functional import cross_entropy\n",
    "from app.modeling.model import TweetClassificationModel\n",
    "from sklearn.metrics import f1_score, accuracy_score, recall_score, precision_score"
   ]
  },
  {
   "attachments": {},
   "cell_type": "markdown",
   "metadata": {},
   "source": [
    "## Load Data"
   ]
  },
  {
   "cell_type": "code",
   "execution_count": 2,
   "metadata": {},
   "outputs": [],
   "source": [
    "pd.set_option('display.max_colwidth', None)"
   ]
  },
  {
   "cell_type": "code",
   "execution_count": 3,
   "metadata": {},
   "outputs": [
    {
     "name": "stderr",
     "output_type": "stream",
     "text": [
      "No config specified, defaulting to: emotion/split\n",
      "Found cached dataset emotion (/Users/davidbreinl/.cache/huggingface/datasets/emotion/split/1.0.0/cca5efe2dfeb58c1d098e0f9eeb200e9927d889b5a03c67097275dfb5fe463bd)\n"
     ]
    },
    {
     "data": {
      "application/vnd.jupyter.widget-view+json": {
       "model_id": "0ea6f6d1e8af4824807c17aa196c31d5",
       "version_major": 2,
       "version_minor": 0
      },
      "text/plain": [
       "  0%|          | 0/3 [00:00<?, ?it/s]"
      ]
     },
     "metadata": {},
     "output_type": "display_data"
    }
   ],
   "source": [
    "emotions_ds = load_dataset(\"emotion\")"
   ]
  },
  {
   "cell_type": "code",
   "execution_count": 4,
   "metadata": {},
   "outputs": [
    {
     "data": {
      "text/plain": [
       "['sadness', 'joy', 'love', 'anger', 'fear', 'surprise']"
      ]
     },
     "execution_count": 4,
     "metadata": {},
     "output_type": "execute_result"
    }
   ],
   "source": [
    "class_names = emotions_ds[\"train\"].features[\"label\"].names\n",
    "class_names"
   ]
  },
  {
   "cell_type": "code",
   "execution_count": 5,
   "metadata": {},
   "outputs": [
    {
     "data": {
      "text/plain": [
       "{'input_ids': tensor([[  101,  2023,  2003,  1037,  3231,  1999,  2344,  2000,  2156,  2065,\n",
       "          1996,  4372, 16044,  2099,  2003,  2551,   102]]), 'attention_mask': tensor([[1, 1, 1, 1, 1, 1, 1, 1, 1, 1, 1, 1, 1, 1, 1, 1, 1]])}"
      ]
     },
     "execution_count": 5,
     "metadata": {},
     "output_type": "execute_result"
    }
   ],
   "source": [
    "MODEL_CHKPT = \"distilbert-base-uncased\"\n",
    "\n",
    "tokenizer = AutoTokenizer.from_pretrained(MODEL_CHKPT)\n",
    "\n",
    "tokenizer(\"this is a test in order to see if the encoder is working\", return_tensors=\"pt\")"
   ]
  },
  {
   "cell_type": "code",
   "execution_count": 6,
   "metadata": {},
   "outputs": [],
   "source": [
    "def tokenize_batch(batch):\n",
    "    return tokenizer(batch[\"text\"], \n",
    "                     padding=True,\n",
    "                     truncation=True,\n",
    "                     add_special_tokens=True,\n",
    "                     return_tensors=\"pt\")"
   ]
  },
  {
   "cell_type": "code",
   "execution_count": 7,
   "metadata": {},
   "outputs": [
    {
     "name": "stderr",
     "output_type": "stream",
     "text": [
      "Loading cached processed dataset at /Users/davidbreinl/.cache/huggingface/datasets/emotion/split/1.0.0/cca5efe2dfeb58c1d098e0f9eeb200e9927d889b5a03c67097275dfb5fe463bd/cache-b324fc8d9823e7f9.arrow\n",
      "Loading cached processed dataset at /Users/davidbreinl/.cache/huggingface/datasets/emotion/split/1.0.0/cca5efe2dfeb58c1d098e0f9eeb200e9927d889b5a03c67097275dfb5fe463bd/cache-1a6f8804dcb677d0.arrow\n",
      "Loading cached processed dataset at /Users/davidbreinl/.cache/huggingface/datasets/emotion/split/1.0.0/cca5efe2dfeb58c1d098e0f9eeb200e9927d889b5a03c67097275dfb5fe463bd/cache-3f93778ab3d480f2.arrow\n"
     ]
    }
   ],
   "source": [
    "tweets_encoded = emotions_ds.map(tokenize_batch, batched=True, batch_size=None)"
   ]
  },
  {
   "cell_type": "code",
   "execution_count": 8,
   "metadata": {},
   "outputs": [],
   "source": [
    "tweets_encoded.set_format(\"torch\",\n",
    "                          columns=[\"input_ids\", \"attention_mask\", \"label\"])"
   ]
  },
  {
   "attachments": {},
   "cell_type": "markdown",
   "metadata": {},
   "source": [
    "## Load Model"
   ]
  },
  {
   "cell_type": "code",
   "execution_count": 9,
   "metadata": {},
   "outputs": [
    {
     "name": "stderr",
     "output_type": "stream",
     "text": [
      "Some weights of the model checkpoint at distilbert-base-uncased were not used when initializing DistilBertModel: ['vocab_projector.weight', 'vocab_transform.weight', 'vocab_layer_norm.weight', 'vocab_layer_norm.bias', 'vocab_projector.bias', 'vocab_transform.bias']\n",
      "- This IS expected if you are initializing DistilBertModel from the checkpoint of a model trained on another task or with another architecture (e.g. initializing a BertForSequenceClassification model from a BertForPreTraining model).\n",
      "- This IS NOT expected if you are initializing DistilBertModel from the checkpoint of a model that you expect to be exactly identical (initializing a BertForSequenceClassification model from a BertForSequenceClassification model).\n"
     ]
    }
   ],
   "source": [
    "saved_model_name = \"distilbert-base-finetuned-for-tweet-classification\"\n",
    "\n",
    "model = TweetClassificationModel(MODEL_CHKPT, len(class_names))\n",
    "model.load_state_dict(\n",
    "                torch.load(f\"app/modeling/models/{saved_model_name}.pth\")\n",
    "            )\n",
    "model = model.to(torch.device(\"mps\"))"
   ]
  },
  {
   "attachments": {},
   "cell_type": "markdown",
   "metadata": {},
   "source": [
    "## Evaluate the model"
   ]
  },
  {
   "cell_type": "code",
   "execution_count": 10,
   "metadata": {},
   "outputs": [],
   "source": [
    "def forward_pass_with_label(batch):\n",
    "    with torch.inference_mode():\n",
    "\n",
    "        inputs = {k:v.to(torch.device(\"mps\")) for k,v in batch.items() if k in tokenizer.model_input_names}\n",
    "\n",
    "        output = model(input_ids = inputs[\"input_ids\"],\n",
    "                       attention_mask = inputs[\"attention_mask\"],\n",
    "                       labels=None)\n",
    "\n",
    "        pred_label = torch.argmax(output[\"logits\"], dim=1)\n",
    "\n",
    "        loss = cross_entropy(input=output.logits, target=batch[\"label\"].to(torch.device(\"mps\")), reduction=\"none\")\n",
    "\n",
    "    return {\n",
    "        \"loss\": loss.cpu().numpy(),\n",
    "        \"predicted_label\": pred_label.cpu().numpy()\n",
    "    }"
   ]
  },
  {
   "cell_type": "code",
   "execution_count": 11,
   "metadata": {},
   "outputs": [
    {
     "name": "stderr",
     "output_type": "stream",
     "text": [
      "/Users/davidbreinl/opt/anaconda3/envs/mlenv/lib/python3.10/site-packages/torch/_tensor_str.py:115: UserWarning: The operator 'aten::nonzero' is not currently supported on the MPS backend and will fall back to run on the CPU. This may have performance implications. (Triggered internally at /Users/runner/work/_temp/anaconda/conda-bld/pytorch_1666646991213/work/aten/src/ATen/mps/MPSFallback.mm:11.)\n",
      "  nonzero_finite_vals = torch.masked_select(\n",
      "Loading cached processed dataset at /Users/davidbreinl/.cache/huggingface/datasets/emotion/split/1.0.0/cca5efe2dfeb58c1d098e0f9eeb200e9927d889b5a03c67097275dfb5fe463bd/cache-ee29053f73508513.arrow\n"
     ]
    }
   ],
   "source": [
    "tweets_encoded[\"test\"] = tweets_encoded[\"test\"].map(forward_pass_with_label, batched=True, batch_size=16)"
   ]
  },
  {
   "cell_type": "code",
   "execution_count": 12,
   "metadata": {},
   "outputs": [],
   "source": [
    "tweets_encoded.set_format(\"pandas\")"
   ]
  },
  {
   "cell_type": "code",
   "execution_count": 13,
   "metadata": {},
   "outputs": [],
   "source": [
    "loss_df = tweets_encoded[\"test\"][:][[\"text\", \"label\",  \"loss\", \"predicted_label\"]]\n",
    "loss_df[\"true_label\"] = [class_names[sentiment] for sentiment in loss_df[\"label\"]]\n",
    "loss_df[\"predicted_label\"] = [class_names[sentiment] for sentiment in loss_df[\"predicted_label\"]]"
   ]
  },
  {
   "cell_type": "code",
   "execution_count": 14,
   "metadata": {},
   "outputs": [
    {
     "data": {
      "text/html": [
       "<div>\n",
       "<style scoped>\n",
       "    .dataframe tbody tr th:only-of-type {\n",
       "        vertical-align: middle;\n",
       "    }\n",
       "\n",
       "    .dataframe tbody tr th {\n",
       "        vertical-align: top;\n",
       "    }\n",
       "\n",
       "    .dataframe thead th {\n",
       "        text-align: right;\n",
       "    }\n",
       "</style>\n",
       "<table border=\"1\" class=\"dataframe\">\n",
       "  <thead>\n",
       "    <tr style=\"text-align: right;\">\n",
       "      <th></th>\n",
       "      <th>text</th>\n",
       "      <th>label</th>\n",
       "      <th>loss</th>\n",
       "      <th>predicted_label</th>\n",
       "      <th>true_label</th>\n",
       "    </tr>\n",
       "  </thead>\n",
       "  <tbody>\n",
       "    <tr>\n",
       "      <th>125</th>\n",
       "      <td>i feel very mislead by someone that i really really thought i knew and liked very much so</td>\n",
       "      <td>2</td>\n",
       "      <td>7.553008</td>\n",
       "      <td>anger</td>\n",
       "      <td>love</td>\n",
       "    </tr>\n",
       "    <tr>\n",
       "      <th>150</th>\n",
       "      <td>im feeling rather angsty and listless</td>\n",
       "      <td>0</td>\n",
       "      <td>7.361518</td>\n",
       "      <td>love</td>\n",
       "      <td>sadness</td>\n",
       "    </tr>\n",
       "    <tr>\n",
       "      <th>1382</th>\n",
       "      <td>i cannot even begin to express in words the depth of sorrow that i feel having not posted any of my ludicrous rants over the passed days</td>\n",
       "      <td>5</td>\n",
       "      <td>6.953576</td>\n",
       "      <td>sadness</td>\n",
       "      <td>surprise</td>\n",
       "    </tr>\n",
       "    <tr>\n",
       "      <th>426</th>\n",
       "      <td>i feel unprotected a class post count link href http reprogramming in process</td>\n",
       "      <td>0</td>\n",
       "      <td>6.819116</td>\n",
       "      <td>fear</td>\n",
       "      <td>sadness</td>\n",
       "    </tr>\n",
       "    <tr>\n",
       "      <th>468</th>\n",
       "      <td>i cant help feeling this way</td>\n",
       "      <td>0</td>\n",
       "      <td>4.379514</td>\n",
       "      <td>joy</td>\n",
       "      <td>sadness</td>\n",
       "    </tr>\n",
       "    <tr>\n",
       "      <th>1928</th>\n",
       "      <td>i feel inside cause life is like a game sometimes but then you came around me the walls just disappeared nothing to surround me and keep me from my fears im unprotected see how ive opened up youve made me trust</td>\n",
       "      <td>4</td>\n",
       "      <td>4.324142</td>\n",
       "      <td>sadness</td>\n",
       "      <td>fear</td>\n",
       "    </tr>\n",
       "    <tr>\n",
       "      <th>1253</th>\n",
       "      <td>i don t feel betrayed coz the backstabber had no grounds for their accusation but i m just amazed at some people s ability to do such things</td>\n",
       "      <td>5</td>\n",
       "      <td>4.284378</td>\n",
       "      <td>sadness</td>\n",
       "      <td>surprise</td>\n",
       "    </tr>\n",
       "    <tr>\n",
       "      <th>816</th>\n",
       "      <td>whenever i put myself in others shoes and try to make the person happy</td>\n",
       "      <td>3</td>\n",
       "      <td>4.260928</td>\n",
       "      <td>joy</td>\n",
       "      <td>anger</td>\n",
       "    </tr>\n",
       "    <tr>\n",
       "      <th>1607</th>\n",
       "      <td>i felt it had a slight bitterness in the finish that detracted from its oily mouthfeel and sweet entry</td>\n",
       "      <td>1</td>\n",
       "      <td>4.205583</td>\n",
       "      <td>anger</td>\n",
       "      <td>joy</td>\n",
       "    </tr>\n",
       "    <tr>\n",
       "      <th>290</th>\n",
       "      <td>i just feel are ludicrous and wasting space or so trite they should have looked at the book first and come up with something a little more original</td>\n",
       "      <td>5</td>\n",
       "      <td>4.053394</td>\n",
       "      <td>sadness</td>\n",
       "      <td>surprise</td>\n",
       "    </tr>\n",
       "    <tr>\n",
       "      <th>1031</th>\n",
       "      <td>i feel could have been avoided with some blazes markers or cairns i was very annoyed at this point</td>\n",
       "      <td>3</td>\n",
       "      <td>3.995079</td>\n",
       "      <td>sadness</td>\n",
       "      <td>anger</td>\n",
       "    </tr>\n",
       "    <tr>\n",
       "      <th>1752</th>\n",
       "      <td>i feel like everything that i hope to become a piller in my life i cling to i despise myself for clinging to something like a hopeless fucking baby</td>\n",
       "      <td>0</td>\n",
       "      <td>3.692655</td>\n",
       "      <td>anger</td>\n",
       "      <td>sadness</td>\n",
       "    </tr>\n",
       "    <tr>\n",
       "      <th>1780</th>\n",
       "      <td>when i learnt that my best friend had failed the exams</td>\n",
       "      <td>3</td>\n",
       "      <td>3.642871</td>\n",
       "      <td>sadness</td>\n",
       "      <td>anger</td>\n",
       "    </tr>\n",
       "    <tr>\n",
       "      <th>1431</th>\n",
       "      <td>i felt a stronger wish to be free from self cherishing through my refuge practice and a return to the feeling of freedom and protection from suffering which i stayed with for the rest of the meditation</td>\n",
       "      <td>0</td>\n",
       "      <td>3.595650</td>\n",
       "      <td>joy</td>\n",
       "      <td>sadness</td>\n",
       "    </tr>\n",
       "    <tr>\n",
       "      <th>1150</th>\n",
       "      <td>when i heard the last regulation of the socialist govrenment concerning pensions</td>\n",
       "      <td>0</td>\n",
       "      <td>3.448881</td>\n",
       "      <td>anger</td>\n",
       "      <td>sadness</td>\n",
       "    </tr>\n",
       "    <tr>\n",
       "      <th>1533</th>\n",
       "      <td>i actually was in a meeting last week where someone yelled at an older lady because her phone rang i felt terrible for her your boss treats you unfairly or in this case someone makes you feel you are not worth anything is only allowing those who offended to steal your joy</td>\n",
       "      <td>3</td>\n",
       "      <td>3.397581</td>\n",
       "      <td>sadness</td>\n",
       "      <td>anger</td>\n",
       "    </tr>\n",
       "    <tr>\n",
       "      <th>1383</th>\n",
       "      <td>this monday i took a math bs test and flunked for the second time</td>\n",
       "      <td>0</td>\n",
       "      <td>3.226559</td>\n",
       "      <td>joy</td>\n",
       "      <td>sadness</td>\n",
       "    </tr>\n",
       "    <tr>\n",
       "      <th>756</th>\n",
       "      <td>getting sent on a company expense trip to another state to work for a week at that plan</td>\n",
       "      <td>1</td>\n",
       "      <td>2.946051</td>\n",
       "      <td>anger</td>\n",
       "      <td>joy</td>\n",
       "    </tr>\n",
       "    <tr>\n",
       "      <th>1206</th>\n",
       "      <td>ive come to feel about a supporting character in one of my all time favorite films giant</td>\n",
       "      <td>1</td>\n",
       "      <td>2.916335</td>\n",
       "      <td>love</td>\n",
       "      <td>joy</td>\n",
       "    </tr>\n",
       "    <tr>\n",
       "      <th>1479</th>\n",
       "      <td>i really feel and i know the devil hates that its always been something he could use against me and im determined not to let him</td>\n",
       "      <td>1</td>\n",
       "      <td>2.806191</td>\n",
       "      <td>anger</td>\n",
       "      <td>joy</td>\n",
       "    </tr>\n",
       "    <tr>\n",
       "      <th>1254</th>\n",
       "      <td>i first started reading city of dark magic i thought it would be a challenge to actually enjoy it since i felt like the content about famous classical music was over my head but luckily after plowing through the first chapter i became more confident and started feeling less dumb</td>\n",
       "      <td>0</td>\n",
       "      <td>2.799661</td>\n",
       "      <td>joy</td>\n",
       "      <td>sadness</td>\n",
       "    </tr>\n",
       "    <tr>\n",
       "      <th>1943</th>\n",
       "      <td>i didn t mean to get angry with you bommie i just can t control my feelings hellip i just hated myself why i am like this the dara who can t get over with that b</td>\n",
       "      <td>0</td>\n",
       "      <td>2.781610</td>\n",
       "      <td>anger</td>\n",
       "      <td>sadness</td>\n",
       "    </tr>\n",
       "    <tr>\n",
       "      <th>759</th>\n",
       "      <td>i feel very strongly about supporting charities that help children</td>\n",
       "      <td>1</td>\n",
       "      <td>2.734844</td>\n",
       "      <td>love</td>\n",
       "      <td>joy</td>\n",
       "    </tr>\n",
       "    <tr>\n",
       "      <th>654</th>\n",
       "      <td>i met my present boyfriend on a boat trip to england we had said that we would call each other when we got back to sweden we were not going to the same town in england as soon as i walked in he called from england as he could not wait till he came home</td>\n",
       "      <td>1</td>\n",
       "      <td>2.667513</td>\n",
       "      <td>anger</td>\n",
       "      <td>joy</td>\n",
       "    </tr>\n",
       "    <tr>\n",
       "      <th>1282</th>\n",
       "      <td>im always feeling so agitated overly excited and impatient to those who are close to me</td>\n",
       "      <td>3</td>\n",
       "      <td>2.653505</td>\n",
       "      <td>fear</td>\n",
       "      <td>anger</td>\n",
       "    </tr>\n",
       "    <tr>\n",
       "      <th>234</th>\n",
       "      <td>i love to dance but often feel inhibited by my own body unsure what i am capable of hyper concerned about other people watching me and having opinions on my style or just feeling awkward as if i have no idea what i am supposed to do here</td>\n",
       "      <td>4</td>\n",
       "      <td>2.569475</td>\n",
       "      <td>sadness</td>\n",
       "      <td>fear</td>\n",
       "    </tr>\n",
       "    <tr>\n",
       "      <th>591</th>\n",
       "      <td>i feel inside this life is like a game sometimes then you came around me the walls just dissapeared nothing to surround me keep me from my fears im unprotected see how ive opened up youve made me trust coz ive never felt like this before im naked around you does it show</td>\n",
       "      <td>0</td>\n",
       "      <td>2.544718</td>\n",
       "      <td>joy</td>\n",
       "      <td>sadness</td>\n",
       "    </tr>\n",
       "    <tr>\n",
       "      <th>1025</th>\n",
       "      <td>im not sure if its just me who feels this way or if its everyone but tortured souls dont make for the best boyfriends</td>\n",
       "      <td>3</td>\n",
       "      <td>2.535939</td>\n",
       "      <td>fear</td>\n",
       "      <td>anger</td>\n",
       "    </tr>\n",
       "    <tr>\n",
       "      <th>546</th>\n",
       "      <td>i feel so blessed to be able to share it with you all</td>\n",
       "      <td>1</td>\n",
       "      <td>2.531295</td>\n",
       "      <td>love</td>\n",
       "      <td>joy</td>\n",
       "    </tr>\n",
       "    <tr>\n",
       "      <th>1772</th>\n",
       "      <td>i have this grave feeling it will not be back until tomorrow and strangely enough i have accepted it</td>\n",
       "      <td>1</td>\n",
       "      <td>2.519428</td>\n",
       "      <td>love</td>\n",
       "      <td>joy</td>\n",
       "    </tr>\n",
       "  </tbody>\n",
       "</table>\n",
       "</div>"
      ],
      "text/plain": [
       "                                                                                                                                                                                                                                                                                         text  \\\n",
       "125                                                                                                                                                                                                 i feel very mislead by someone that i really really thought i knew and liked very much so   \n",
       "150                                                                                                                                                                                                                                                     im feeling rather angsty and listless   \n",
       "1382                                                                                                                                                 i cannot even begin to express in words the depth of sorrow that i feel having not posted any of my ludicrous rants over the passed days   \n",
       "426                                                                                                                                                                                                             i feel unprotected a class post count link href http reprogramming in process   \n",
       "468                                                                                                                                                                                                                                                              i cant help feeling this way   \n",
       "1928                                                                       i feel inside cause life is like a game sometimes but then you came around me the walls just disappeared nothing to surround me and keep me from my fears im unprotected see how ive opened up youve made me trust   \n",
       "1253                                                                                                                                             i don t feel betrayed coz the backstabber had no grounds for their accusation but i m just amazed at some people s ability to do such things   \n",
       "816                                                                                                                                                                                                                    whenever i put myself in others shoes and try to make the person happy   \n",
       "1607                                                                                                                                                                                   i felt it had a slight bitterness in the finish that detracted from its oily mouthfeel and sweet entry   \n",
       "290                                                                                                                                       i just feel are ludicrous and wasting space or so trite they should have looked at the book first and come up with something a little more original   \n",
       "1031                                                                                                                                                                                       i feel could have been avoided with some blazes markers or cairns i was very annoyed at this point   \n",
       "1752                                                                                                                                      i feel like everything that i hope to become a piller in my life i cling to i despise myself for clinging to something like a hopeless fucking baby   \n",
       "1780                                                                                                                                                                                                                                   when i learnt that my best friend had failed the exams   \n",
       "1431                                                                                i felt a stronger wish to be free from self cherishing through my refuge practice and a return to the feeling of freedom and protection from suffering which i stayed with for the rest of the meditation   \n",
       "1150                                                                                                                                                                                                         when i heard the last regulation of the socialist govrenment concerning pensions   \n",
       "1533         i actually was in a meeting last week where someone yelled at an older lady because her phone rang i felt terrible for her your boss treats you unfairly or in this case someone makes you feel you are not worth anything is only allowing those who offended to steal your joy   \n",
       "1383                                                                                                                                                                                                                        this monday i took a math bs test and flunked for the second time   \n",
       "756                                                                                                                                                                                                   getting sent on a company expense trip to another state to work for a week at that plan   \n",
       "1206                                                                                                                                                                                                 ive come to feel about a supporting character in one of my all time favorite films giant   \n",
       "1479                                                                                                                                                         i really feel and i know the devil hates that its always been something he could use against me and im determined not to let him   \n",
       "1254  i first started reading city of dark magic i thought it would be a challenge to actually enjoy it since i felt like the content about famous classical music was over my head but luckily after plowing through the first chapter i became more confident and started feeling less dumb   \n",
       "1943                                                                                                                        i didn t mean to get angry with you bommie i just can t control my feelings hellip i just hated myself why i am like this the dara who can t get over with that b   \n",
       "759                                                                                                                                                                                                                        i feel very strongly about supporting charities that help children   \n",
       "654                              i met my present boyfriend on a boat trip to england we had said that we would call each other when we got back to sweden we were not going to the same town in england as soon as i walked in he called from england as he could not wait till he came home   \n",
       "1282                                                                                                                                                                                                  im always feeling so agitated overly excited and impatient to those who are close to me   \n",
       "234                                             i love to dance but often feel inhibited by my own body unsure what i am capable of hyper concerned about other people watching me and having opinions on my style or just feeling awkward as if i have no idea what i am supposed to do here   \n",
       "591            i feel inside this life is like a game sometimes then you came around me the walls just dissapeared nothing to surround me keep me from my fears im unprotected see how ive opened up youve made me trust coz ive never felt like this before im naked around you does it show   \n",
       "1025                                                                                                                                                                    im not sure if its just me who feels this way or if its everyone but tortured souls dont make for the best boyfriends   \n",
       "546                                                                                                                                                                                                                                     i feel so blessed to be able to share it with you all   \n",
       "1772                                                                                                                                                                                     i have this grave feeling it will not be back until tomorrow and strangely enough i have accepted it   \n",
       "\n",
       "      label      loss predicted_label true_label  \n",
       "125       2  7.553008           anger       love  \n",
       "150       0  7.361518            love    sadness  \n",
       "1382      5  6.953576         sadness   surprise  \n",
       "426       0  6.819116            fear    sadness  \n",
       "468       0  4.379514             joy    sadness  \n",
       "1928      4  4.324142         sadness       fear  \n",
       "1253      5  4.284378         sadness   surprise  \n",
       "816       3  4.260928             joy      anger  \n",
       "1607      1  4.205583           anger        joy  \n",
       "290       5  4.053394         sadness   surprise  \n",
       "1031      3  3.995079         sadness      anger  \n",
       "1752      0  3.692655           anger    sadness  \n",
       "1780      3  3.642871         sadness      anger  \n",
       "1431      0  3.595650             joy    sadness  \n",
       "1150      0  3.448881           anger    sadness  \n",
       "1533      3  3.397581         sadness      anger  \n",
       "1383      0  3.226559             joy    sadness  \n",
       "756       1  2.946051           anger        joy  \n",
       "1206      1  2.916335            love        joy  \n",
       "1479      1  2.806191           anger        joy  \n",
       "1254      0  2.799661             joy    sadness  \n",
       "1943      0  2.781610           anger    sadness  \n",
       "759       1  2.734844            love        joy  \n",
       "654       1  2.667513           anger        joy  \n",
       "1282      3  2.653505            fear      anger  \n",
       "234       4  2.569475         sadness       fear  \n",
       "591       0  2.544718             joy    sadness  \n",
       "1025      3  2.535939            fear      anger  \n",
       "546       1  2.531295            love        joy  \n",
       "1772      1  2.519428            love        joy  "
      ]
     },
     "execution_count": 14,
     "metadata": {},
     "output_type": "execute_result"
    }
   ],
   "source": [
    "loss_df.sort_values(\"loss\", ascending=False).head(30)"
   ]
  },
  {
   "cell_type": "code",
   "execution_count": 15,
   "metadata": {},
   "outputs": [],
   "source": [
    "def plot_confusion_matrix(y_preds, y_true, labels):\n",
    "    cm = confusion_matrix(y_true, y_preds, normalize=\"true\")\n",
    "    fig, ax = plt.subplots(figsize=(6,6))\n",
    "    disp = ConfusionMatrixDisplay(confusion_matrix=cm, display_labels=labels)\n",
    "    disp.plot(cmap=\"Blues\", values_format=\".2f\", ax=ax, colorbar=False)\n",
    "    plt.title(\"Normalized Confusion Matrix\")\n",
    "    plt.show()"
   ]
  },
  {
   "cell_type": "code",
   "execution_count": 16,
   "metadata": {},
   "outputs": [
    {
     "data": {
      "image/png": "[encoded data removed]",
      "text/plain": [
       "<Figure size 600x600 with 1 Axes>"
      ]
     },
     "metadata": {},
     "output_type": "display_data"
    }
   ],
   "source": [
    "plot_confusion_matrix(loss_df[\"predicted_label\"], loss_df[\"true_label\"], labels=class_names)"
   ]
  },
  {
   "cell_type": "code",
   "execution_count": 17,
   "metadata": {},
   "outputs": [],
   "source": [
    "recall = recall_score(loss_df[\"true_label\"], loss_df[\"predicted_label\"], average=\"weighted\")\n",
    "precision = precision_score(loss_df[\"true_label\"], loss_df[\"predicted_label\"], average=\"weighted\")\n",
    "accuracy = accuracy_score(loss_df[\"true_label\"], loss_df[\"predicted_label\"])\n",
    "f1_score = f1_score(loss_df[\"true_label\"], loss_df[\"predicted_label\"], average=\"weighted\")"
   ]
  },
  {
   "cell_type": "code",
   "execution_count": 18,
   "metadata": {},
   "outputs": [
    {
     "data": {
      "text/html": [
       "<div>\n",
       "<style scoped>\n",
       "    .dataframe tbody tr th:only-of-type {\n",
       "        vertical-align: middle;\n",
       "    }\n",
       "\n",
       "    .dataframe tbody tr th {\n",
       "        vertical-align: top;\n",
       "    }\n",
       "\n",
       "    .dataframe thead th {\n",
       "        text-align: right;\n",
       "    }\n",
       "</style>\n",
       "<table border=\"1\" class=\"dataframe\">\n",
       "  <thead>\n",
       "    <tr style=\"text-align: right;\">\n",
       "      <th></th>\n",
       "      <th>precision</th>\n",
       "      <th>recall</th>\n",
       "      <th>f1</th>\n",
       "      <th>accuracy</th>\n",
       "    </tr>\n",
       "  </thead>\n",
       "  <tbody>\n",
       "    <tr>\n",
       "      <th>distilbert-base-finetuned-for-tweet-classification</th>\n",
       "      <td>0.922999</td>\n",
       "      <td>0.92</td>\n",
       "      <td>0.920762</td>\n",
       "      <td>0.92</td>\n",
       "    </tr>\n",
       "  </tbody>\n",
       "</table>\n",
       "</div>"
      ],
      "text/plain": [
       "                                                    precision  recall  \\\n",
       "distilbert-base-finetuned-for-tweet-classification   0.922999    0.92   \n",
       "\n",
       "                                                          f1  accuracy  \n",
       "distilbert-base-finetuned-for-tweet-classification  0.920762      0.92  "
      ]
     },
     "execution_count": 18,
     "metadata": {},
     "output_type": "execute_result"
    }
   ],
   "source": [
    "pd.DataFrame({\"precision\": precision,\n",
    "              \"recall\": recall,\n",
    "              \"f1\": f1_score,\n",
    "              \"accuracy\": accuracy}, \n",
    "              index=[saved_model_name])"
   ]
  },
  {
   "cell_type": "code",
   "execution_count": null,
   "metadata": {},
   "outputs": [],
   "source": []
  }
 ],
 "metadata": {
  "kernelspec": {
   "display_name": "mlenv",
   "language": "python",
   "name": "python3"
  },
  "language_info": {
   "codemirror_mode": {
    "name": "ipython",
    "version": 3
   },
   "file_extension": ".py",
   "mimetype": "text/x-python",
   "name": "python",
   "nbconvert_exporter": "python",
   "pygments_lexer": "ipython3",
   "version": "3.10.8"
  },
  "orig_nbformat": 4
 },
 "nbformat": 4,
 "nbformat_minor": 2
}
