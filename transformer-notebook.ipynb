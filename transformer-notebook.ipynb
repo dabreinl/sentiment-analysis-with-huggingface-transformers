{
 "cells": [
  {
   "cell_type": "code",
   "execution_count": 68,
   "metadata": {},
   "outputs": [],
   "source": [
    "import pandas as pd\n",
    "import matplotlib.pyplot as plt\n",
    "import numpy as np\n",
    "import transformers\n",
    "from transformers import AutoTokenizer"
   ]
  },
  {
   "cell_type": "code",
   "execution_count": 70,
   "metadata": {},
   "outputs": [],
   "source": [
    "pd.set_option('display.max_colwidth', None)"
   ]
  },
  {
   "cell_type": "code",
   "execution_count": 2,
   "metadata": {},
   "outputs": [
    {
     "data": {
      "text/html": [
       "<div>\n",
       "<style scoped>\n",
       "    .dataframe tbody tr th:only-of-type {\n",
       "        vertical-align: middle;\n",
       "    }\n",
       "\n",
       "    .dataframe tbody tr th {\n",
       "        vertical-align: top;\n",
       "    }\n",
       "\n",
       "    .dataframe thead th {\n",
       "        text-align: right;\n",
       "    }\n",
       "</style>\n",
       "<table border=\"1\" class=\"dataframe\">\n",
       "  <thead>\n",
       "    <tr style=\"text-align: right;\">\n",
       "      <th></th>\n",
       "      <th>textID</th>\n",
       "      <th>text</th>\n",
       "      <th>selected_text</th>\n",
       "      <th>sentiment</th>\n",
       "    </tr>\n",
       "  </thead>\n",
       "  <tbody>\n",
       "    <tr>\n",
       "      <th>0</th>\n",
       "      <td>cb774db0d1</td>\n",
       "      <td>I`d have responded, if I were going</td>\n",
       "      <td>I`d have responded, if I were going</td>\n",
       "      <td>neutral</td>\n",
       "    </tr>\n",
       "    <tr>\n",
       "      <th>1</th>\n",
       "      <td>549e992a42</td>\n",
       "      <td>Sooo SAD I will miss you here in San Diego!!!</td>\n",
       "      <td>Sooo SAD</td>\n",
       "      <td>negative</td>\n",
       "    </tr>\n",
       "    <tr>\n",
       "      <th>2</th>\n",
       "      <td>088c60f138</td>\n",
       "      <td>my boss is bullying me...</td>\n",
       "      <td>bullying me</td>\n",
       "      <td>negative</td>\n",
       "    </tr>\n",
       "    <tr>\n",
       "      <th>3</th>\n",
       "      <td>9642c003ef</td>\n",
       "      <td>what interview! leave me alone</td>\n",
       "      <td>leave me alone</td>\n",
       "      <td>negative</td>\n",
       "    </tr>\n",
       "    <tr>\n",
       "      <th>4</th>\n",
       "      <td>358bd9e861</td>\n",
       "      <td>Sons of ****, why couldn`t they put them on t...</td>\n",
       "      <td>Sons of ****,</td>\n",
       "      <td>negative</td>\n",
       "    </tr>\n",
       "  </tbody>\n",
       "</table>\n",
       "</div>"
      ],
      "text/plain": [
       "       textID                                               text  \\\n",
       "0  cb774db0d1                I`d have responded, if I were going   \n",
       "1  549e992a42      Sooo SAD I will miss you here in San Diego!!!   \n",
       "2  088c60f138                          my boss is bullying me...   \n",
       "3  9642c003ef                     what interview! leave me alone   \n",
       "4  358bd9e861   Sons of ****, why couldn`t they put them on t...   \n",
       "\n",
       "                         selected_text sentiment  \n",
       "0  I`d have responded, if I were going   neutral  \n",
       "1                             Sooo SAD  negative  \n",
       "2                          bullying me  negative  \n",
       "3                       leave me alone  negative  \n",
       "4                        Sons of ****,  negative  "
      ]
     },
     "execution_count": 2,
     "metadata": {},
     "output_type": "execute_result"
    }
   ],
   "source": [
    "# Lets initially load the data (Kaggle dataset containing different tweets and their sentiment)\n",
    "tweets_df = pd.read_csv('data/Tweets.csv')\n",
    "tweets_df.head()"
   ]
  },
  {
   "cell_type": "code",
   "execution_count": 3,
   "metadata": {},
   "outputs": [
    {
     "data": {
      "image/png": "[encoded data removed]",
      "text/plain": [
       "<Figure size 640x480 with 1 Axes>"
      ]
     },
     "metadata": {},
     "output_type": "display_data"
    }
   ],
   "source": [
    "# We have a slightly imbalanced dataset which should be taken into account when evaluating the model/ when we try to split the data into train/test\n",
    "tweets_df[\"sentiment\"].value_counts().plot.barh()\n",
    "plt.show()"
   ]
  },
  {
   "cell_type": "markdown",
   "metadata": {},
   "source": [
    "# 🤗 Transformers"
   ]
  },
  {
   "attachments": {},
   "cell_type": "markdown",
   "metadata": {},
   "source": [
    "## Create our Dataset"
   ]
  },
  {
   "cell_type": "code",
   "execution_count": 4,
   "metadata": {},
   "outputs": [],
   "source": [
    "import transformers\n",
    "from transformers import AutoModel, AutoTokenizer, AutoConfig, DataCollatorWithPadding\n",
    "from datasets import load_dataset, Dataset, DatasetDict"
   ]
  },
  {
   "cell_type": "code",
   "execution_count": 5,
   "metadata": {},
   "outputs": [
    {
     "name": "stderr",
     "output_type": "stream",
     "text": [
      "Found cached dataset csv (/Users/davidbreinl/.cache/huggingface/datasets/csv/default-8bed6ed4f37d7f15/0.0.0/6b34fb8fcf56f7c8ba51dc895bfa2bfbe43546f190a60fcf74bb5e8afdcc2317)\n"
     ]
    },
    {
     "data": {
      "application/vnd.jupyter.widget-view+json": {
       "model_id": "381bb5339c994334bf308f71599dc4a9",
       "version_major": 2,
       "version_minor": 0
      },
      "text/plain": [
       "  0%|          | 0/1 [00:00<?, ?it/s]"
      ]
     },
     "metadata": {},
     "output_type": "display_data"
    }
   ],
   "source": [
    "tweets_ds = load_dataset(\"csv\", data_dir=\"data/\")"
   ]
  },
  {
   "cell_type": "code",
   "execution_count": 6,
   "metadata": {},
   "outputs": [],
   "source": [
    "tweets_ds.set_format(\"pandas\")"
   ]
  },
  {
   "cell_type": "code",
   "execution_count": 7,
   "metadata": {},
   "outputs": [],
   "source": [
    "tweets_df = tweets_ds[\"train\"][:]"
   ]
  },
  {
   "cell_type": "code",
   "execution_count": 8,
   "metadata": {},
   "outputs": [
    {
     "data": {
      "text/html": [
       "<div>\n",
       "<style scoped>\n",
       "    .dataframe tbody tr th:only-of-type {\n",
       "        vertical-align: middle;\n",
       "    }\n",
       "\n",
       "    .dataframe tbody tr th {\n",
       "        vertical-align: top;\n",
       "    }\n",
       "\n",
       "    .dataframe thead th {\n",
       "        text-align: right;\n",
       "    }\n",
       "</style>\n",
       "<table border=\"1\" class=\"dataframe\">\n",
       "  <thead>\n",
       "    <tr style=\"text-align: right;\">\n",
       "      <th></th>\n",
       "      <th>text</th>\n",
       "      <th>sentiment</th>\n",
       "    </tr>\n",
       "  </thead>\n",
       "  <tbody>\n",
       "    <tr>\n",
       "      <th>0</th>\n",
       "      <td>I`d have responded, if I were going</td>\n",
       "      <td>neutral</td>\n",
       "    </tr>\n",
       "    <tr>\n",
       "      <th>1</th>\n",
       "      <td>Sooo SAD I will miss you here in San Diego!!!</td>\n",
       "      <td>negative</td>\n",
       "    </tr>\n",
       "    <tr>\n",
       "      <th>2</th>\n",
       "      <td>my boss is bullying me...</td>\n",
       "      <td>negative</td>\n",
       "    </tr>\n",
       "    <tr>\n",
       "      <th>3</th>\n",
       "      <td>what interview! leave me alone</td>\n",
       "      <td>negative</td>\n",
       "    </tr>\n",
       "    <tr>\n",
       "      <th>4</th>\n",
       "      <td>Sons of ****, why couldn`t they put them on t...</td>\n",
       "      <td>negative</td>\n",
       "    </tr>\n",
       "  </tbody>\n",
       "</table>\n",
       "</div>"
      ],
      "text/plain": [
       "                                                text sentiment\n",
       "0                I`d have responded, if I were going   neutral\n",
       "1      Sooo SAD I will miss you here in San Diego!!!  negative\n",
       "2                          my boss is bullying me...  negative\n",
       "3                     what interview! leave me alone  negative\n",
       "4   Sons of ****, why couldn`t they put them on t...  negative"
      ]
     },
     "execution_count": 8,
     "metadata": {},
     "output_type": "execute_result"
    }
   ],
   "source": [
    "tweets_df.drop_duplicates(\"textID\")\n",
    "tweets_df = tweets_df.dropna()\n",
    "tweets_df = tweets_df.reset_index()[[\"text\", \"sentiment\"]] # as I am only interested in the text, and label here\n",
    "tweets_df.head()"
   ]
  },
  {
   "attachments": {},
   "cell_type": "markdown",
   "metadata": {},
   "source": [
    "tweets_ds.reset_format()"
   ]
  },
  {
   "cell_type": "code",
   "execution_count": 9,
   "metadata": {},
   "outputs": [
    {
     "name": "stdout",
     "output_type": "stream",
     "text": [
      "['neutral', 'negative', 'positive']\n"
     ]
    },
    {
     "data": {
      "text/html": [
       "<div>\n",
       "<style scoped>\n",
       "    .dataframe tbody tr th:only-of-type {\n",
       "        vertical-align: middle;\n",
       "    }\n",
       "\n",
       "    .dataframe tbody tr th {\n",
       "        vertical-align: top;\n",
       "    }\n",
       "\n",
       "    .dataframe thead th {\n",
       "        text-align: right;\n",
       "    }\n",
       "</style>\n",
       "<table border=\"1\" class=\"dataframe\">\n",
       "  <thead>\n",
       "    <tr style=\"text-align: right;\">\n",
       "      <th></th>\n",
       "      <th>text</th>\n",
       "      <th>sentiment</th>\n",
       "    </tr>\n",
       "  </thead>\n",
       "  <tbody>\n",
       "    <tr>\n",
       "      <th>0</th>\n",
       "      <td>I`d have responded, if I were going</td>\n",
       "      <td>0</td>\n",
       "    </tr>\n",
       "    <tr>\n",
       "      <th>1</th>\n",
       "      <td>Sooo SAD I will miss you here in San Diego!!!</td>\n",
       "      <td>1</td>\n",
       "    </tr>\n",
       "    <tr>\n",
       "      <th>2</th>\n",
       "      <td>my boss is bullying me...</td>\n",
       "      <td>1</td>\n",
       "    </tr>\n",
       "    <tr>\n",
       "      <th>3</th>\n",
       "      <td>what interview! leave me alone</td>\n",
       "      <td>1</td>\n",
       "    </tr>\n",
       "    <tr>\n",
       "      <th>4</th>\n",
       "      <td>Sons of ****, why couldn`t they put them on t...</td>\n",
       "      <td>1</td>\n",
       "    </tr>\n",
       "  </tbody>\n",
       "</table>\n",
       "</div>"
      ],
      "text/plain": [
       "                                                text  sentiment\n",
       "0                I`d have responded, if I were going          0\n",
       "1      Sooo SAD I will miss you here in San Diego!!!          1\n",
       "2                          my boss is bullying me...          1\n",
       "3                     what interview! leave me alone          1\n",
       "4   Sons of ****, why couldn`t they put them on t...          1"
      ]
     },
     "execution_count": 9,
     "metadata": {},
     "output_type": "execute_result"
    }
   ],
   "source": [
    "# Lets encode the sentiment into a numeric representation\n",
    "class_names = list(tweets_df[\"sentiment\"].unique())\n",
    "print(class_names)\n",
    "\n",
    "tweets_df[\"sentiment\"] = [class_names.index(sentiment) for sentiment in tweets_df.sentiment]\n",
    "tweets_df.head()"
   ]
  },
  {
   "cell_type": "code",
   "execution_count": 10,
   "metadata": {},
   "outputs": [],
   "source": [
    "tweets_ds = Dataset.from_pandas(tweets_df)\n",
    "tweets_ds.reset_format()"
   ]
  },
  {
   "cell_type": "code",
   "execution_count": 11,
   "metadata": {},
   "outputs": [
    {
     "data": {
      "text/plain": [
       "(DatasetDict({\n",
       "     train: Dataset({\n",
       "         features: ['text', 'sentiment'],\n",
       "         num_rows: 21984\n",
       "     })\n",
       "     test: Dataset({\n",
       "         features: ['text', 'sentiment'],\n",
       "         num_rows: 5496\n",
       "     })\n",
       " }),\n",
       " DatasetDict({\n",
       "     train: Dataset({\n",
       "         features: ['text', 'sentiment'],\n",
       "         num_rows: 2748\n",
       "     })\n",
       "     test: Dataset({\n",
       "         features: ['text', 'sentiment'],\n",
       "         num_rows: 2748\n",
       "     })\n",
       " }))"
      ]
     },
     "execution_count": 11,
     "metadata": {},
     "output_type": "execute_result"
    }
   ],
   "source": [
    "train_testvalid = tweets_ds.train_test_split(test_size=0.2, seed=42)\n",
    "\n",
    "test_valid = train_testvalid[\"test\"].train_test_split(test_size=0.5, seed=42)\n",
    "\n",
    "train_testvalid, test_valid"
   ]
  },
  {
   "cell_type": "code",
   "execution_count": 12,
   "metadata": {},
   "outputs": [
    {
     "data": {
      "text/plain": [
       "DatasetDict({\n",
       "    train: Dataset({\n",
       "        features: ['text', 'sentiment'],\n",
       "        num_rows: 21984\n",
       "    })\n",
       "    test: Dataset({\n",
       "        features: ['text', 'sentiment'],\n",
       "        num_rows: 2748\n",
       "    })\n",
       "    val: Dataset({\n",
       "        features: ['text', 'sentiment'],\n",
       "        num_rows: 2748\n",
       "    })\n",
       "})"
      ]
     },
     "execution_count": 12,
     "metadata": {},
     "output_type": "execute_result"
    }
   ],
   "source": [
    "tweets_ds = DatasetDict({\n",
    "    'train':train_testvalid[\"train\"],\n",
    "    'test': test_valid[\"train\"],\n",
    "    'val': test_valid[\"test\"]\n",
    "})\n",
    "\n",
    "tweets_ds"
   ]
  },
  {
   "attachments": {},
   "cell_type": "markdown",
   "metadata": {},
   "source": [
    "## Lets Encode the Text"
   ]
  },
  {
   "cell_type": "code",
   "execution_count": 13,
   "metadata": {},
   "outputs": [
    {
     "data": {
      "text/plain": [
       "{'input_ids': tensor([[  101,  2023,  2003,  1037,  3231,  1999,  2344,  2000,  2156,  2065,\n",
       "          1996,  4372, 16044,  2099,  2003,  2551,   102]]), 'attention_mask': tensor([[1, 1, 1, 1, 1, 1, 1, 1, 1, 1, 1, 1, 1, 1, 1, 1, 1]])}"
      ]
     },
     "execution_count": 13,
     "metadata": {},
     "output_type": "execute_result"
    }
   ],
   "source": [
    "MODEL_CHKPT = \"distilbert-base-uncased\"\n",
    "\n",
    "tokenizer = AutoTokenizer.from_pretrained(MODEL_CHKPT)\n",
    "\n",
    "tokenizer(\"this is a test in order to see if the encoder is working\", return_tensors=\"pt\")"
   ]
  },
  {
   "cell_type": "code",
   "execution_count": 14,
   "metadata": {},
   "outputs": [
    {
     "data": {
      "text/plain": [
       "{'input_ids': tensor([[  101,  2123,  1036,  1056,  2292,  1996,  3103,  4608,  2017,  6933,\n",
       "          1011,  2821,  2026,  1012,  1012,  2061,  4658,  8299,  1024,  1013,\n",
       "          1013,  4714,  3126,  2140,  1012,  4012,  1013, 12731,  6292,  2620,\n",
       "          2278,   102,     0],\n",
       "        [  101, 20767,  3251,  2000,  2175,  2000,  2793,  1998,  2707,  3752,\n",
       "          1996,  2197,  4302, 10693,  2338,  1010,  2130,  2295,  2004,  2574,\n",
       "          2004,  1045,  2707,  3752,  2009,  1010,  1045,  2180,  1036,  1056,\n",
       "         10587,  2644,   102]]), 'attention_mask': tensor([[1, 1, 1, 1, 1, 1, 1, 1, 1, 1, 1, 1, 1, 1, 1, 1, 1, 1, 1, 1, 1, 1, 1, 1,\n",
       "         1, 1, 1, 1, 1, 1, 1, 1, 0],\n",
       "        [1, 1, 1, 1, 1, 1, 1, 1, 1, 1, 1, 1, 1, 1, 1, 1, 1, 1, 1, 1, 1, 1, 1, 1,\n",
       "         1, 1, 1, 1, 1, 1, 1, 1, 1]])}"
      ]
     },
     "execution_count": 14,
     "metadata": {},
     "output_type": "execute_result"
    }
   ],
   "source": [
    "# We first have to define a function that we can then apply onto our entire huggingface dataset\n",
    "def tokenize_batch(batch):\n",
    "    return tokenizer(batch[\"text\"], \n",
    "                     padding=True,\n",
    "                     truncation=True,\n",
    "                     add_special_tokens=True,\n",
    "                     return_tensors=\"pt\")\n",
    "\n",
    "# Lets check if the function is actually working\n",
    "tokenize_batch(tweets_ds[\"train\"][:2])"
   ]
  },
  {
   "cell_type": "code",
   "execution_count": 15,
   "metadata": {},
   "outputs": [
    {
     "data": {
      "application/vnd.jupyter.widget-view+json": {
       "model_id": "72969cacacf74136a12849fd7e07a6a3",
       "version_major": 2,
       "version_minor": 0
      },
      "text/plain": [
       "Map:   0%|          | 0/21984 [00:00<?, ? examples/s]"
      ]
     },
     "metadata": {},
     "output_type": "display_data"
    },
    {
     "data": {
      "application/vnd.jupyter.widget-view+json": {
       "model_id": "c283552063c04906b35889ab039cc06c",
       "version_major": 2,
       "version_minor": 0
      },
      "text/plain": [
       "Map:   0%|          | 0/2748 [00:00<?, ? examples/s]"
      ]
     },
     "metadata": {},
     "output_type": "display_data"
    },
    {
     "data": {
      "application/vnd.jupyter.widget-view+json": {
       "model_id": "9d1b64b8045b4954a805a8b394597c16",
       "version_major": 2,
       "version_minor": 0
      },
      "text/plain": [
       "Map:   0%|          | 0/2748 [00:00<?, ? examples/s]"
      ]
     },
     "metadata": {},
     "output_type": "display_data"
    },
    {
     "data": {
      "text/plain": [
       "Dataset({\n",
       "    features: ['text', 'sentiment', 'input_ids', 'attention_mask'],\n",
       "    num_rows: 21984\n",
       "})"
      ]
     },
     "execution_count": 15,
     "metadata": {},
     "output_type": "execute_result"
    }
   ],
   "source": [
    "tweets_encoded = tweets_ds.map(tokenize_batch, batched=True, batch_size=None) #batch_size NONE!!!!!!!! Very important since else our tokens are in different lengths\n",
    "tweets_encoded[\"train\"] # as we can see we now included the input ids and the attention mask"
   ]
  },
  {
   "cell_type": "code",
   "execution_count": 16,
   "metadata": {},
   "outputs": [
    {
     "data": {
      "text/plain": [
       "{110}"
      ]
     },
     "execution_count": 16,
     "metadata": {},
     "output_type": "execute_result"
    }
   ],
   "source": [
    "set([len(item) for item in tweets_encoded[\"train\"][\"input_ids\"]])"
   ]
  },
  {
   "cell_type": "code",
   "execution_count": 17,
   "metadata": {},
   "outputs": [
    {
     "data": {
      "text/plain": [
       "[[101,\n",
       "  2123,\n",
       "  1036,\n",
       "  1056,\n",
       "  2292,\n",
       "  1996,\n",
       "  3103,\n",
       "  4608,\n",
       "  2017,\n",
       "  6933,\n",
       "  1011,\n",
       "  2821,\n",
       "  2026,\n",
       "  1012,\n",
       "  1012,\n",
       "  2061,\n",
       "  4658,\n",
       "  8299,\n",
       "  1024,\n",
       "  1013,\n",
       "  1013,\n",
       "  4714,\n",
       "  3126,\n",
       "  2140,\n",
       "  1012,\n",
       "  4012,\n",
       "  1013,\n",
       "  12731,\n",
       "  6292,\n",
       "  2620,\n",
       "  2278,\n",
       "  102,\n",
       "  0,\n",
       "  0,\n",
       "  0,\n",
       "  0,\n",
       "  0,\n",
       "  0,\n",
       "  0,\n",
       "  0,\n",
       "  0,\n",
       "  0,\n",
       "  0,\n",
       "  0,\n",
       "  0,\n",
       "  0,\n",
       "  0,\n",
       "  0,\n",
       "  0,\n",
       "  0,\n",
       "  0,\n",
       "  0,\n",
       "  0,\n",
       "  0,\n",
       "  0,\n",
       "  0,\n",
       "  0,\n",
       "  0,\n",
       "  0,\n",
       "  0,\n",
       "  0,\n",
       "  0,\n",
       "  0,\n",
       "  0,\n",
       "  0,\n",
       "  0,\n",
       "  0,\n",
       "  0,\n",
       "  0,\n",
       "  0,\n",
       "  0,\n",
       "  0,\n",
       "  0,\n",
       "  0,\n",
       "  0,\n",
       "  0,\n",
       "  0,\n",
       "  0,\n",
       "  0,\n",
       "  0,\n",
       "  0,\n",
       "  0,\n",
       "  0,\n",
       "  0,\n",
       "  0,\n",
       "  0,\n",
       "  0,\n",
       "  0,\n",
       "  0,\n",
       "  0,\n",
       "  0,\n",
       "  0,\n",
       "  0,\n",
       "  0,\n",
       "  0,\n",
       "  0,\n",
       "  0,\n",
       "  0,\n",
       "  0,\n",
       "  0,\n",
       "  0,\n",
       "  0,\n",
       "  0,\n",
       "  0,\n",
       "  0,\n",
       "  0,\n",
       "  0,\n",
       "  0,\n",
       "  0,\n",
       "  0],\n",
       " [101,\n",
       "  20767,\n",
       "  3251,\n",
       "  2000,\n",
       "  2175,\n",
       "  2000,\n",
       "  2793,\n",
       "  1998,\n",
       "  2707,\n",
       "  3752,\n",
       "  1996,\n",
       "  2197,\n",
       "  4302,\n",
       "  10693,\n",
       "  2338,\n",
       "  1010,\n",
       "  2130,\n",
       "  2295,\n",
       "  2004,\n",
       "  2574,\n",
       "  2004,\n",
       "  1045,\n",
       "  2707,\n",
       "  3752,\n",
       "  2009,\n",
       "  1010,\n",
       "  1045,\n",
       "  2180,\n",
       "  1036,\n",
       "  1056,\n",
       "  10587,\n",
       "  2644,\n",
       "  102,\n",
       "  0,\n",
       "  0,\n",
       "  0,\n",
       "  0,\n",
       "  0,\n",
       "  0,\n",
       "  0,\n",
       "  0,\n",
       "  0,\n",
       "  0,\n",
       "  0,\n",
       "  0,\n",
       "  0,\n",
       "  0,\n",
       "  0,\n",
       "  0,\n",
       "  0,\n",
       "  0,\n",
       "  0,\n",
       "  0,\n",
       "  0,\n",
       "  0,\n",
       "  0,\n",
       "  0,\n",
       "  0,\n",
       "  0,\n",
       "  0,\n",
       "  0,\n",
       "  0,\n",
       "  0,\n",
       "  0,\n",
       "  0,\n",
       "  0,\n",
       "  0,\n",
       "  0,\n",
       "  0,\n",
       "  0,\n",
       "  0,\n",
       "  0,\n",
       "  0,\n",
       "  0,\n",
       "  0,\n",
       "  0,\n",
       "  0,\n",
       "  0,\n",
       "  0,\n",
       "  0,\n",
       "  0,\n",
       "  0,\n",
       "  0,\n",
       "  0,\n",
       "  0,\n",
       "  0,\n",
       "  0,\n",
       "  0,\n",
       "  0,\n",
       "  0,\n",
       "  0,\n",
       "  0,\n",
       "  0,\n",
       "  0,\n",
       "  0,\n",
       "  0,\n",
       "  0,\n",
       "  0,\n",
       "  0,\n",
       "  0,\n",
       "  0,\n",
       "  0,\n",
       "  0,\n",
       "  0,\n",
       "  0,\n",
       "  0,\n",
       "  0,\n",
       "  0,\n",
       "  0,\n",
       "  0]]"
      ]
     },
     "execution_count": 17,
     "metadata": {},
     "output_type": "execute_result"
    }
   ],
   "source": [
    "tweets_encoded[\"train\"][\"input_ids\"][:2]"
   ]
  },
  {
   "cell_type": "code",
   "execution_count": 18,
   "metadata": {},
   "outputs": [],
   "source": [
    "# since our pytorch model will expect us to input torch tensors lets switch the format\n",
    "\n",
    "tweets_encoded.set_format(\"torch\",\n",
    "                          columns=[\"input_ids\", \"attention_mask\", \"sentiment\"])"
   ]
  },
  {
   "cell_type": "code",
   "execution_count": 19,
   "metadata": {},
   "outputs": [
    {
     "data": {
      "text/plain": [
       "{'sentiment': tensor([2, 0]),\n",
       " 'input_ids': tensor([[  101,  2123,  1036,  1056,  2292,  1996,  3103,  4608,  2017,  6933,\n",
       "           1011,  2821,  2026,  1012,  1012,  2061,  4658,  8299,  1024,  1013,\n",
       "           1013,  4714,  3126,  2140,  1012,  4012,  1013, 12731,  6292,  2620,\n",
       "           2278,   102,     0,     0,     0,     0,     0,     0,     0,     0,\n",
       "              0,     0,     0,     0,     0,     0,     0,     0,     0,     0,\n",
       "              0,     0,     0,     0,     0,     0,     0,     0,     0,     0,\n",
       "              0,     0,     0,     0,     0,     0,     0,     0,     0,     0,\n",
       "              0,     0,     0,     0,     0,     0,     0,     0,     0,     0,\n",
       "              0,     0,     0,     0,     0,     0,     0,     0,     0,     0,\n",
       "              0,     0,     0,     0,     0,     0,     0,     0,     0,     0,\n",
       "              0,     0,     0,     0,     0,     0,     0,     0,     0,     0],\n",
       "         [  101, 20767,  3251,  2000,  2175,  2000,  2793,  1998,  2707,  3752,\n",
       "           1996,  2197,  4302, 10693,  2338,  1010,  2130,  2295,  2004,  2574,\n",
       "           2004,  1045,  2707,  3752,  2009,  1010,  1045,  2180,  1036,  1056,\n",
       "          10587,  2644,   102,     0,     0,     0,     0,     0,     0,     0,\n",
       "              0,     0,     0,     0,     0,     0,     0,     0,     0,     0,\n",
       "              0,     0,     0,     0,     0,     0,     0,     0,     0,     0,\n",
       "              0,     0,     0,     0,     0,     0,     0,     0,     0,     0,\n",
       "              0,     0,     0,     0,     0,     0,     0,     0,     0,     0,\n",
       "              0,     0,     0,     0,     0,     0,     0,     0,     0,     0,\n",
       "              0,     0,     0,     0,     0,     0,     0,     0,     0,     0,\n",
       "              0,     0,     0,     0,     0,     0,     0,     0,     0,     0]]),\n",
       " 'attention_mask': tensor([[1, 1, 1, 1, 1, 1, 1, 1, 1, 1, 1, 1, 1, 1, 1, 1, 1, 1, 1, 1, 1, 1, 1, 1,\n",
       "          1, 1, 1, 1, 1, 1, 1, 1, 0, 0, 0, 0, 0, 0, 0, 0, 0, 0, 0, 0, 0, 0, 0, 0,\n",
       "          0, 0, 0, 0, 0, 0, 0, 0, 0, 0, 0, 0, 0, 0, 0, 0, 0, 0, 0, 0, 0, 0, 0, 0,\n",
       "          0, 0, 0, 0, 0, 0, 0, 0, 0, 0, 0, 0, 0, 0, 0, 0, 0, 0, 0, 0, 0, 0, 0, 0,\n",
       "          0, 0, 0, 0, 0, 0, 0, 0, 0, 0, 0, 0, 0, 0],\n",
       "         [1, 1, 1, 1, 1, 1, 1, 1, 1, 1, 1, 1, 1, 1, 1, 1, 1, 1, 1, 1, 1, 1, 1, 1,\n",
       "          1, 1, 1, 1, 1, 1, 1, 1, 1, 0, 0, 0, 0, 0, 0, 0, 0, 0, 0, 0, 0, 0, 0, 0,\n",
       "          0, 0, 0, 0, 0, 0, 0, 0, 0, 0, 0, 0, 0, 0, 0, 0, 0, 0, 0, 0, 0, 0, 0, 0,\n",
       "          0, 0, 0, 0, 0, 0, 0, 0, 0, 0, 0, 0, 0, 0, 0, 0, 0, 0, 0, 0, 0, 0, 0, 0,\n",
       "          0, 0, 0, 0, 0, 0, 0, 0, 0, 0, 0, 0, 0, 0]])}"
      ]
     },
     "execution_count": 19,
     "metadata": {},
     "output_type": "execute_result"
    }
   ],
   "source": [
    "tweets_encoded[\"train\"][:2]"
   ]
  },
  {
   "cell_type": "code",
   "execution_count": 20,
   "metadata": {},
   "outputs": [],
   "source": [
    "data_collator = DataCollatorWithPadding(tokenizer=tokenizer)"
   ]
  },
  {
   "attachments": {},
   "cell_type": "markdown",
   "metadata": {},
   "source": [
    "## Create PyTorch Dataloader"
   ]
  },
  {
   "cell_type": "code",
   "execution_count": 21,
   "metadata": {},
   "outputs": [],
   "source": [
    "from torch.utils.data import DataLoader"
   ]
  },
  {
   "cell_type": "code",
   "execution_count": 22,
   "metadata": {},
   "outputs": [],
   "source": [
    "BATCH_SIZE=32\n",
    "\n",
    "train_dataloader= DataLoader(tweets_encoded[\"train\"], batch_size=BATCH_SIZE, shuffle=True, collate_fn=data_collator)\n",
    "val_dataloader= DataLoader(tweets_encoded[\"val\"], batch_size=BATCH_SIZE, shuffle=False, collate_fn=data_collator)"
   ]
  },
  {
   "cell_type": "code",
   "execution_count": 23,
   "metadata": {},
   "outputs": [
    {
     "data": {
      "text/plain": [
       "(<torch.utils.data.dataloader.DataLoader at 0x7ff46c0b2f20>,\n",
       " <torch.utils.data.dataloader.DataLoader at 0x7ff46c0b2ec0>)"
      ]
     },
     "execution_count": 23,
     "metadata": {},
     "output_type": "execute_result"
    }
   ],
   "source": [
    "train_dataloader, val_dataloader"
   ]
  },
  {
   "cell_type": "code",
   "execution_count": 24,
   "metadata": {},
   "outputs": [
    {
     "name": "stderr",
     "output_type": "stream",
     "text": [
      "You're using a DistilBertTokenizerFast tokenizer. Please note that with a fast tokenizer, using the `__call__` method is faster than using a method to encode the text followed by a call to the `pad` method to get a padded encoding.\n"
     ]
    },
    {
     "data": {
      "text/plain": [
       "{'sentiment': tensor([0, 0, 1, 0, 0, 0, 2, 0, 1, 2, 0, 2, 1, 2, 2, 0, 2, 2, 1, 2, 0, 0, 2, 0,\n",
       "        0, 0, 0, 0, 2, 2, 2, 1]), 'input_ids': tensor([[ 101, 6160, 4402,  ...,    0,    0,    0],\n",
       "        [ 101, 2128, 1011,  ...,    0,    0,    0],\n",
       "        [ 101, 1035, 1059,  ...,    0,    0,    0],\n",
       "        ...,\n",
       "        [ 101, 2023, 2003,  ...,    0,    0,    0],\n",
       "        [ 101, 7459, 2026,  ...,    0,    0,    0],\n",
       "        [ 101, 1045, 4299,  ...,    0,    0,    0]]), 'attention_mask': tensor([[1, 1, 1,  ..., 0, 0, 0],\n",
       "        [1, 1, 1,  ..., 0, 0, 0],\n",
       "        [1, 1, 1,  ..., 0, 0, 0],\n",
       "        ...,\n",
       "        [1, 1, 1,  ..., 0, 0, 0],\n",
       "        [1, 1, 1,  ..., 0, 0, 0],\n",
       "        [1, 1, 1,  ..., 0, 0, 0]])}"
      ]
     },
     "execution_count": 24,
     "metadata": {},
     "output_type": "execute_result"
    }
   ],
   "source": [
    "next(iter(train_dataloader))"
   ]
  },
  {
   "attachments": {},
   "cell_type": "markdown",
   "metadata": {},
   "source": [
    "## Lets now Train a custom Model"
   ]
  },
  {
   "cell_type": "code",
   "execution_count": 25,
   "metadata": {},
   "outputs": [
    {
     "name": "stderr",
     "output_type": "stream",
     "text": [
      "Some weights of the model checkpoint at distilbert-base-uncased were not used when initializing DistilBertModel: ['vocab_transform.weight', 'vocab_transform.bias', 'vocab_projector.bias', 'vocab_projector.weight', 'vocab_layer_norm.weight', 'vocab_layer_norm.bias']\n",
      "- This IS expected if you are initializing DistilBertModel from the checkpoint of a model trained on another task or with another architecture (e.g. initializing a BertForSequenceClassification model from a BertForPreTraining model).\n",
      "- This IS NOT expected if you are initializing DistilBertModel from the checkpoint of a model that you expect to be exactly identical (initializing a BertForSequenceClassification model from a BertForSequenceClassification model).\n"
     ]
    }
   ],
   "source": [
    "model = AutoModel.from_pretrained(MODEL_CHKPT)"
   ]
  },
  {
   "cell_type": "code",
   "execution_count": 26,
   "metadata": {},
   "outputs": [
    {
     "data": {
      "text/plain": [
       "DistilBertConfig {\n",
       "  \"_name_or_path\": \"distilbert-base-uncased\",\n",
       "  \"activation\": \"gelu\",\n",
       "  \"architectures\": [\n",
       "    \"DistilBertForMaskedLM\"\n",
       "  ],\n",
       "  \"attention_dropout\": 0.1,\n",
       "  \"dim\": 768,\n",
       "  \"dropout\": 0.1,\n",
       "  \"hidden_dim\": 3072,\n",
       "  \"initializer_range\": 0.02,\n",
       "  \"max_position_embeddings\": 512,\n",
       "  \"model_type\": \"distilbert\",\n",
       "  \"n_heads\": 12,\n",
       "  \"n_layers\": 6,\n",
       "  \"pad_token_id\": 0,\n",
       "  \"qa_dropout\": 0.1,\n",
       "  \"seq_classif_dropout\": 0.2,\n",
       "  \"sinusoidal_pos_embds\": false,\n",
       "  \"tie_weights_\": true,\n",
       "  \"transformers_version\": \"4.26.1\",\n",
       "  \"vocab_size\": 30522\n",
       "}"
      ]
     },
     "execution_count": 26,
     "metadata": {},
     "output_type": "execute_result"
    }
   ],
   "source": [
    "AutoConfig.from_pretrained(MODEL_CHKPT)"
   ]
  },
  {
   "cell_type": "code",
   "execution_count": 27,
   "metadata": {},
   "outputs": [],
   "source": [
    "from modeling.model import TweetClassificationModel"
   ]
  },
  {
   "cell_type": "code",
   "execution_count": 28,
   "metadata": {},
   "outputs": [
    {
     "name": "stderr",
     "output_type": "stream",
     "text": [
      "Some weights of the model checkpoint at distilbert-base-uncased were not used when initializing DistilBertModel: ['vocab_transform.weight', 'vocab_transform.bias', 'vocab_projector.bias', 'vocab_projector.weight', 'vocab_layer_norm.weight', 'vocab_layer_norm.bias']\n",
      "- This IS expected if you are initializing DistilBertModel from the checkpoint of a model trained on another task or with another architecture (e.g. initializing a BertForSequenceClassification model from a BertForPreTraining model).\n",
      "- This IS NOT expected if you are initializing DistilBertModel from the checkpoint of a model that you expect to be exactly identical (initializing a BertForSequenceClassification model from a BertForSequenceClassification model).\n"
     ]
    }
   ],
   "source": [
    "model = TweetClassificationModel(checkpoint=MODEL_CHKPT, num_classes=len(class_names))"
   ]
  },
  {
   "cell_type": "code",
   "execution_count": 29,
   "metadata": {},
   "outputs": [],
   "source": [
    "from modeling.train import Model_training\n",
    "import torch\n",
    "from transformers import AdamW, get_scheduler"
   ]
  },
  {
   "cell_type": "code",
   "execution_count": 30,
   "metadata": {},
   "outputs": [],
   "source": [
    "trainer = Model_training(model=model, device=torch.device(\"mps\"))"
   ]
  },
  {
   "cell_type": "code",
   "execution_count": 31,
   "metadata": {},
   "outputs": [
    {
     "name": "stderr",
     "output_type": "stream",
     "text": [
      "/Users/davidbreinl/opt/anaconda3/envs/learn_huggingface/lib/python3.10/site-packages/transformers/optimization.py:306: FutureWarning: This implementation of AdamW is deprecated and will be removed in a future version. Use the PyTorch implementation torch.optim.AdamW instead, or set `no_deprecation_warning=True` to disable this warning\n",
      "  warnings.warn(\n"
     ]
    }
   ],
   "source": [
    "optimizer=AdamW(model.parameters(), lr=5e-5)"
   ]
  },
  {
   "cell_type": "code",
   "execution_count": 32,
   "metadata": {},
   "outputs": [
    {
     "data": {
      "text/plain": [
       "tensor([[  101,  2123,  1036,  ...,     0,     0,     0],\n",
       "        [  101, 20767,  3251,  ...,     0,     0,     0],\n",
       "        [  101,  1045,  1036,  ...,     0,     0,     0],\n",
       "        ...,\n",
       "        [  101,  3504,  2066,  ...,     0,     0,     0],\n",
       "        [  101,  2069,  2038,  ...,     0,     0,     0],\n",
       "        [  101,  1045,  2467,  ...,     0,     0,     0]])"
      ]
     },
     "execution_count": 32,
     "metadata": {},
     "output_type": "execute_result"
    }
   ],
   "source": [
    "tweets_encoded[\"train\"][\"input_ids\"]"
   ]
  },
  {
   "cell_type": "code",
   "execution_count": 33,
   "metadata": {},
   "outputs": [
    {
     "data": {
      "text/plain": [
       "tensor([[  101,  1056, 17311,  ...,     0,     0,     0],\n",
       "        [  101,  2154,  1022,  ...,     0,     0,     0],\n",
       "        [  101,  2643, 11565,  ...,     0,     0,     0],\n",
       "        ...,\n",
       "        [  101,  3407,  2388,  ...,     0,     0,     0],\n",
       "        [  101,  2055,  2000,  ...,     0,     0,     0],\n",
       "        [  101, 15933,  2008,  ...,     0,     0,     0]])"
      ]
     },
     "execution_count": 33,
     "metadata": {},
     "output_type": "execute_result"
    }
   ],
   "source": [
    "test_input_ids = tweets_encoded[\"test\"][\"input_ids\"]\n",
    "test_attention_masks = tweets_encoded[\"test\"][\"attention_mask\"]\n",
    "\n",
    "test_input_ids"
   ]
  },
  {
   "cell_type": "code",
   "execution_count": 34,
   "metadata": {},
   "outputs": [
    {
     "name": "stderr",
     "output_type": "stream",
     "text": [
      " 50%|█████     | 1/2 [06:19<06:19, 379.21s/it]"
     ]
    },
    {
     "name": "stdout",
     "output_type": "stream",
     "text": [
      "Epoch 1:\n",
      "Train Loss: 0.59257 | Train F1: 0.75164 | Train Acc: 0.75396\n",
      "Test Loss: 0.54090 | Test F1: 0.77936 | Test Acc: 0.77824\n",
      "\n"
     ]
    },
    {
     "name": "stderr",
     "output_type": "stream",
     "text": [
      "100%|██████████| 2/2 [12:37<00:00, 378.53s/it]"
     ]
    },
    {
     "name": "stdout",
     "output_type": "stream",
     "text": [
      "Epoch 2:\n",
      "Train Loss: 0.41110 | Train F1: 0.83828 | Train Acc: 0.83829\n",
      "Test Loss: 0.55958 | Test F1: 0.78291 | Test Acc: 0.78083\n",
      "\n"
     ]
    },
    {
     "name": "stderr",
     "output_type": "stream",
     "text": [
      "\n"
     ]
    }
   ],
   "source": [
    "# it works but the model clearly overfit on the training data\n",
    "trainer.train(train_dataloader=train_dataloader,\n",
    "              eval_dataloader=val_dataloader,\n",
    "              optimizer=optimizer,\n",
    "              epochs=2\n",
    "              )"
   ]
  },
  {
   "cell_type": "code",
   "execution_count": 35,
   "metadata": {},
   "outputs": [],
   "source": [
    "tweets_encoded.set_format(\"torch\", columns=[\"input_ids\", \"attention_mask\", \"sentiment\"])"
   ]
  },
  {
   "cell_type": "code",
   "execution_count": 36,
   "metadata": {},
   "outputs": [
    {
     "data": {
      "text/plain": [
       "tensor([  101,  1045,  2467,  2031,  1037,  2204,  2154,   999,  1045,  2191,\n",
       "         2009,  2204,  2035,  1996,  2051,  2021,  2017,  2191,  2009,  2488,\n",
       "         1059,  1013, 24471,  2851, 14806,  2015,   999,   999,  4067,  2017,\n",
       "          999,   999,   102,     0,     0,     0,     0,     0,     0,     0,\n",
       "            0,     0,     0,     0,     0,     0,     0,     0,     0,     0,\n",
       "            0,     0,     0,     0,     0,     0,     0,     0,     0,     0,\n",
       "            0,     0,     0,     0,     0,     0,     0,     0,     0,     0,\n",
       "            0,     0,     0,     0,     0,     0,     0,     0,     0,     0,\n",
       "            0,     0,     0,     0,     0,     0,     0,     0,     0,     0,\n",
       "            0,     0,     0,     0,     0,     0,     0,     0,     0,     0,\n",
       "            0,     0,     0,     0,     0,     0,     0,     0,     0,     0])"
      ]
     },
     "execution_count": 36,
     "metadata": {},
     "output_type": "execute_result"
    }
   ],
   "source": [
    "tweets_encoded[\"train\"][\"input_ids\"][-1]"
   ]
  },
  {
   "cell_type": "code",
   "execution_count": 37,
   "metadata": {},
   "outputs": [
    {
     "data": {
      "text/plain": [
       "tensor([[  101,  1056, 17311,  ...,     0,     0,     0],\n",
       "        [  101,  2154,  1022,  ...,     0,     0,     0],\n",
       "        [  101,  2643, 11565,  ...,     0,     0,     0],\n",
       "        ...,\n",
       "        [  101,  3407,  2388,  ...,     0,     0,     0],\n",
       "        [  101,  2055,  2000,  ...,     0,     0,     0],\n",
       "        [  101, 15933,  2008,  ...,     0,     0,     0]])"
      ]
     },
     "execution_count": 37,
     "metadata": {},
     "output_type": "execute_result"
    }
   ],
   "source": [
    "tweets_encoded[\"test\"][\"input_ids\"]"
   ]
  },
  {
   "attachments": {},
   "cell_type": "markdown",
   "metadata": {},
   "source": [
    "## Lets Evaluate the model on the unseen Test Data"
   ]
  },
  {
   "cell_type": "code",
   "execution_count": 44,
   "metadata": {},
   "outputs": [],
   "source": [
    "import torch\n",
    "from torch import nn\n",
    "from torch.nn.functional import cross_entropy"
   ]
  },
  {
   "cell_type": "code",
   "execution_count": 55,
   "metadata": {},
   "outputs": [],
   "source": [
    "def forward_pass_with_label(batch):\n",
    "    with torch.inference_mode():\n",
    "\n",
    "        inputs = {k:v.to(torch.device(\"mps\")) for k,v in batch.items() if k in tokenizer.model_input_names}\n",
    "\n",
    "        output = model(input_ids = inputs[\"input_ids\"],\n",
    "                       attention_mask = inputs[\"attention_mask\"],\n",
    "                       labels=None)\n",
    "\n",
    "        pred_label = torch.argmax(output[\"logits\"], dim=1)\n",
    "\n",
    "        loss = cross_entropy(input=output.logits, target=batch[\"sentiment\"].to(torch.device(\"mps\")), reduction=\"none\")\n",
    "\n",
    "    return {\n",
    "        \"loss\": loss.cpu().numpy(),\n",
    "        \"predicted_label\": pred_label.cpu().numpy()\n",
    "    }\n",
    "\n"
   ]
  },
  {
   "cell_type": "code",
   "execution_count": 56,
   "metadata": {},
   "outputs": [
    {
     "data": {
      "application/vnd.jupyter.widget-view+json": {
       "model_id": "9fe051688eee473fab6ed6f408adbd9c",
       "version_major": 2,
       "version_minor": 0
      },
      "text/plain": [
       "Map:   0%|          | 0/2748 [00:00<?, ? examples/s]"
      ]
     },
     "metadata": {},
     "output_type": "display_data"
    }
   ],
   "source": [
    "tweets_encoded[\"test\"] = tweets_encoded[\"test\"].map(forward_pass_with_label, batched=True, batch_size=16)"
   ]
  },
  {
   "cell_type": "code",
   "execution_count": 57,
   "metadata": {},
   "outputs": [
    {
     "data": {
      "text/plain": [
       "Dataset({\n",
       "    features: ['text', 'sentiment', 'input_ids', 'attention_mask', 'loss', 'predicted_label'],\n",
       "    num_rows: 2748\n",
       "})"
      ]
     },
     "execution_count": 57,
     "metadata": {},
     "output_type": "execute_result"
    }
   ],
   "source": [
    "# Now apply to our test data\n",
    "tweets_encoded[\"test\"]"
   ]
  },
  {
   "cell_type": "code",
   "execution_count": 58,
   "metadata": {},
   "outputs": [],
   "source": [
    "tweets_encoded.set_format(\"pandas\")"
   ]
  },
  {
   "cell_type": "code",
   "execution_count": 64,
   "metadata": {},
   "outputs": [],
   "source": [
    "#Lets look at the texts with the largest losses -> model had the hardest time predicting\n",
    "\n",
    "loss_df = tweets_encoded[\"test\"][:][[\"text\", \"sentiment\", \"predicted_label\", \"loss\"]]\n",
    "loss_df[\"sentiment\"] = [class_names[sentiment] for sentiment in loss_df[\"sentiment\"]]\n",
    "loss_df[\"predicted_label\"] = [class_names[sentiment] for sentiment in loss_df[\"predicted_label\"]]"
   ]
  },
  {
   "cell_type": "code",
   "execution_count": 71,
   "metadata": {},
   "outputs": [
    {
     "data": {
      "text/html": [
       "<div>\n",
       "<style scoped>\n",
       "    .dataframe tbody tr th:only-of-type {\n",
       "        vertical-align: middle;\n",
       "    }\n",
       "\n",
       "    .dataframe tbody tr th {\n",
       "        vertical-align: top;\n",
       "    }\n",
       "\n",
       "    .dataframe thead th {\n",
       "        text-align: right;\n",
       "    }\n",
       "</style>\n",
       "<table border=\"1\" class=\"dataframe\">\n",
       "  <thead>\n",
       "    <tr style=\"text-align: right;\">\n",
       "      <th></th>\n",
       "      <th>text</th>\n",
       "      <th>sentiment</th>\n",
       "      <th>predicted_label</th>\n",
       "      <th>loss</th>\n",
       "    </tr>\n",
       "  </thead>\n",
       "  <tbody>\n",
       "    <tr>\n",
       "      <th>1504</th>\n",
       "      <td>http://twitpic.com/4w52z - Patrick should come here and say hi!</td>\n",
       "      <td>negative</td>\n",
       "      <td>neutral</td>\n",
       "      <td>7.692671</td>\n",
       "    </tr>\n",
       "    <tr>\n",
       "      <th>467</th>\n",
       "      <td>You geek!</td>\n",
       "      <td>negative</td>\n",
       "      <td>positive</td>\n",
       "      <td>7.426255</td>\n",
       "    </tr>\n",
       "    <tr>\n",
       "      <th>46</th>\n",
       "      <td>1st presentation for senior boards? FML</td>\n",
       "      <td>negative</td>\n",
       "      <td>neutral</td>\n",
       "      <td>6.605243</td>\n",
       "    </tr>\n",
       "    <tr>\n",
       "      <th>2666</th>\n",
       "      <td>eating breakfast  getting ready to go to school ;(</td>\n",
       "      <td>negative</td>\n",
       "      <td>neutral</td>\n",
       "      <td>6.484394</td>\n",
       "    </tr>\n",
       "    <tr>\n",
       "      <th>2663</th>\n",
       "      <td>have an amazing time with your mommas tomorrow! Show them how much they mean to you  Whatever you do they will love it</td>\n",
       "      <td>negative</td>\n",
       "      <td>positive</td>\n",
       "      <td>6.259410</td>\n",
       "    </tr>\n",
       "    <tr>\n",
       "      <th>1499</th>\n",
       "      <td>youstinkatrespondingtotexts!</td>\n",
       "      <td>negative</td>\n",
       "      <td>neutral</td>\n",
       "      <td>6.131695</td>\n",
       "    </tr>\n",
       "    <tr>\n",
       "      <th>526</th>\n",
       "      <td>msn-ing. no school  shouldn`t there be more bank holidays? x</td>\n",
       "      <td>positive</td>\n",
       "      <td>neutral</td>\n",
       "      <td>6.037906</td>\n",
       "    </tr>\n",
       "    <tr>\n",
       "      <th>2324</th>\n",
       "      <td>Yep! Tail between legs!</td>\n",
       "      <td>negative</td>\n",
       "      <td>neutral</td>\n",
       "      <td>5.910635</td>\n",
       "    </tr>\n",
       "    <tr>\n",
       "      <th>706</th>\n",
       "      <td>Im sure the 5 ppl who came in after me will be seen by a dentist before I will</td>\n",
       "      <td>negative</td>\n",
       "      <td>neutral</td>\n",
       "      <td>5.774485</td>\n",
       "    </tr>\n",
       "    <tr>\n",
       "      <th>454</th>\n",
       "      <td>_cunning I gotta go to my cousin`s grad party</td>\n",
       "      <td>positive</td>\n",
       "      <td>neutral</td>\n",
       "      <td>5.719028</td>\n",
       "    </tr>\n",
       "    <tr>\n",
       "      <th>1328</th>\n",
       "      <td>oh when will #gfail end? been on HTML version all day</td>\n",
       "      <td>negative</td>\n",
       "      <td>neutral</td>\n",
       "      <td>5.650637</td>\n",
       "    </tr>\n",
       "    <tr>\n",
       "      <th>1198</th>\n",
       "      <td>counting the minutes until I can go home</td>\n",
       "      <td>negative</td>\n",
       "      <td>neutral</td>\n",
       "      <td>5.633357</td>\n",
       "    </tr>\n",
       "    <tr>\n",
       "      <th>738</th>\n",
       "      <td>each day is a new beginning</td>\n",
       "      <td>positive</td>\n",
       "      <td>neutral</td>\n",
       "      <td>5.622099</td>\n",
       "    </tr>\n",
       "    <tr>\n",
       "      <th>1678</th>\n",
       "      <td>Flap-a-taco was nice until the plebs came in.</td>\n",
       "      <td>negative</td>\n",
       "      <td>positive</td>\n",
       "      <td>5.584007</td>\n",
       "    </tr>\n",
       "    <tr>\n",
       "      <th>567</th>\n",
       "      <td>I`m so bunged up!! I Hate colds!!</td>\n",
       "      <td>positive</td>\n",
       "      <td>negative</td>\n",
       "      <td>5.569026</td>\n",
       "    </tr>\n",
       "    <tr>\n",
       "      <th>2502</th>\n",
       "      <td>VEGA UNDER FIREEEEEE</td>\n",
       "      <td>negative</td>\n",
       "      <td>neutral</td>\n",
       "      <td>5.566054</td>\n",
       "    </tr>\n",
       "    <tr>\n",
       "      <th>209</th>\n",
       "      <td>Happy Mother`s Day. . .</td>\n",
       "      <td>neutral</td>\n",
       "      <td>positive</td>\n",
       "      <td>5.564666</td>\n",
       "    </tr>\n",
       "    <tr>\n",
       "      <th>2714</th>\n",
       "      <td>I`m hungry. And single.  heading to the golfing range soon.</td>\n",
       "      <td>negative</td>\n",
       "      <td>neutral</td>\n",
       "      <td>5.458630</td>\n",
       "    </tr>\n",
       "    <tr>\n",
       "      <th>686</th>\n",
       "      <td>Morning.. Coffee and fresh air</td>\n",
       "      <td>positive</td>\n",
       "      <td>neutral</td>\n",
       "      <td>5.293734</td>\n",
       "    </tr>\n",
       "    <tr>\n",
       "      <th>880</th>\n",
       "      <td>Pineapple rocks bud</td>\n",
       "      <td>positive</td>\n",
       "      <td>neutral</td>\n",
       "      <td>5.002567</td>\n",
       "    </tr>\n",
       "  </tbody>\n",
       "</table>\n",
       "</div>"
      ],
      "text/plain": [
       "                                                                                                                         text  \\\n",
       "1504                                                          http://twitpic.com/4w52z - Patrick should come here and say hi!   \n",
       "467                                                                                                                 You geek!   \n",
       "46                                                                                    1st presentation for senior boards? FML   \n",
       "2666                                                                       eating breakfast  getting ready to go to school ;(   \n",
       "2663   have an amazing time with your mommas tomorrow! Show them how much they mean to you  Whatever you do they will love it   \n",
       "1499                                                                                             youstinkatrespondingtotexts!   \n",
       "526                                                              msn-ing. no school  shouldn`t there be more bank holidays? x   \n",
       "2324                                                                                                  Yep! Tail between legs!   \n",
       "706                                            Im sure the 5 ppl who came in after me will be seen by a dentist before I will   \n",
       "454                                                                             _cunning I gotta go to my cousin`s grad party   \n",
       "1328                                                                    oh when will #gfail end? been on HTML version all day   \n",
       "1198                                                                                 counting the minutes until I can go home   \n",
       "738                                                                                               each day is a new beginning   \n",
       "1678                                                                            Flap-a-taco was nice until the plebs came in.   \n",
       "567                                                                                         I`m so bunged up!! I Hate colds!!   \n",
       "2502                                                                                                     VEGA UNDER FIREEEEEE   \n",
       "209                                                                                                   Happy Mother`s Day. . .   \n",
       "2714                                                              I`m hungry. And single.  heading to the golfing range soon.   \n",
       "686                                                                                            Morning.. Coffee and fresh air   \n",
       "880                                                                                                       Pineapple rocks bud   \n",
       "\n",
       "     sentiment predicted_label      loss  \n",
       "1504  negative         neutral  7.692671  \n",
       "467   negative        positive  7.426255  \n",
       "46    negative         neutral  6.605243  \n",
       "2666  negative         neutral  6.484394  \n",
       "2663  negative        positive  6.259410  \n",
       "1499  negative         neutral  6.131695  \n",
       "526   positive         neutral  6.037906  \n",
       "2324  negative         neutral  5.910635  \n",
       "706   negative         neutral  5.774485  \n",
       "454   positive         neutral  5.719028  \n",
       "1328  negative         neutral  5.650637  \n",
       "1198  negative         neutral  5.633357  \n",
       "738   positive         neutral  5.622099  \n",
       "1678  negative        positive  5.584007  \n",
       "567   positive        negative  5.569026  \n",
       "2502  negative         neutral  5.566054  \n",
       "209    neutral        positive  5.564666  \n",
       "2714  negative         neutral  5.458630  \n",
       "686   positive         neutral  5.293734  \n",
       "880   positive         neutral  5.002567  "
      ]
     },
     "execution_count": 71,
     "metadata": {},
     "output_type": "execute_result"
    }
   ],
   "source": [
    "loss_df.sort_values(\"loss\", ascending=False).head(20)"
   ]
  },
  {
   "cell_type": "code",
   "execution_count": 88,
   "metadata": {},
   "outputs": [],
   "source": [
    "from sklearn.metrics import ConfusionMatrixDisplay, confusion_matrix, accuracy_score, f1_score\n",
    "\n",
    "def plot_confusion_matrix(y_preds, y_true, labels):\n",
    "    cm = confusion_matrix(y_true, y_preds, normalize=\"true\")\n",
    "    fig, ax = plt.subplots(figsize=(6,6))\n",
    "    disp = ConfusionMatrixDisplay(confusion_matrix=cm, display_labels=labels)\n",
    "    disp.plot(cmap=\"Blues\", values_format=\".2f\", ax=ax, colorbar=False)\n",
    "    plt.title(\"Normalized Confusion Matrix\")\n",
    "    plt.show()"
   ]
  },
  {
   "cell_type": "code",
   "execution_count": 89,
   "metadata": {},
   "outputs": [
    {
     "data": {
      "image/png": "[encoded data removed]",
      "text/plain": [
       "<Figure size 600x600 with 1 Axes>"
      ]
     },
     "metadata": {},
     "output_type": "display_data"
    }
   ],
   "source": [
    "plot_confusion_matrix(loss_df[\"predicted_label\"], loss_df[\"sentiment\"], labels=class_names)"
   ]
  },
  {
   "cell_type": "code",
   "execution_count": 87,
   "metadata": {},
   "outputs": [
    {
     "name": "stdout",
     "output_type": "stream",
     "text": [
      "The accuracy score of the baseline model: 0.772197962154294\n",
      "The f1-score of the baseline model: 0.7729017846297821\n"
     ]
    }
   ],
   "source": [
    "print(f'The accuracy score of the baseline model: {accuracy_score(loss_df[\"sentiment\"], loss_df[\"predicted_label\"])}')\n",
    "print(f'The f1-score of the baseline model: {f1_score(loss_df[\"sentiment\"], loss_df[\"predicted_label\"], average=\"weighted\")}')"
   ]
  },
  {
   "attachments": {},
   "cell_type": "markdown",
   "metadata": {},
   "source": [
    "## Lets make some predictions on a custom text"
   ]
  },
  {
   "cell_type": "code",
   "execution_count": 126,
   "metadata": {},
   "outputs": [],
   "source": [
    "from modeling.inference import make_prediction"
   ]
  },
  {
   "cell_type": "code",
   "execution_count": 127,
   "metadata": {},
   "outputs": [
    {
     "data": {
      "text/plain": [
       "'positive'"
      ]
     },
     "execution_count": 127,
     "metadata": {},
     "output_type": "execute_result"
    }
   ],
   "source": [
    "text = \"I think it is amazing that I am now able to classify different tweets\"\n",
    "\n",
    "make_prediction(text=text, model=model, labels=class_names, tokenizer=tokenizer)"
   ]
  },
  {
   "cell_type": "code",
   "execution_count": null,
   "metadata": {},
   "outputs": [],
   "source": []
  }
 ],
 "metadata": {
  "kernelspec": {
   "display_name": "learn_huggingface",
   "language": "python",
   "name": "python3"
  },
  "language_info": {
   "codemirror_mode": {
    "name": "ipython",
    "version": 3
   },
   "file_extension": ".py",
   "mimetype": "text/x-python",
   "name": "python",
   "nbconvert_exporter": "python",
   "pygments_lexer": "ipython3",
   "version": "3.10.9"
  },
  "orig_nbformat": 4,
  "vscode": {
   "interpreter": {
    "hash": "9dd4a113326245b0e3d0a750c0a478d9d46a70fd06f4c7df456910a41acec73b"
   }
  }
 },
 "nbformat": 4,
 "nbformat_minor": 2
}
